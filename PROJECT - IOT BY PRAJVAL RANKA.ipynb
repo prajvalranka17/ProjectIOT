{
 "cells": [
  {
   "cell_type": "markdown",
   "metadata": {},
   "source": [
    "# ATTACK AND ANOMALY DETECTION USING MACHINE LEARNING"
   ]
  },
  {
   "cell_type": "markdown",
   "metadata": {},
   "source": [
    "### AIM\n",
    "The goal of the project is to perform Attack and Anomaly detection in the IOT infrastructure with the help\n",
    "of several machine learning model and to compare which model provides the best accuracy through various \n",
    "Evaluation Techniques."
   ]
  },
  {
   "cell_type": "markdown",
   "metadata": {},
   "source": [
    "### APPROACH/STEPS\n",
    "\n",
    "We're going to take the following approach:\n",
    "1. Data Collection and Dataset Analogy\n",
    "2. Data Preprocessing\n",
    "3. Sampling\n",
    "4. Learning Algorithm\n",
    "5. Generate Final Model\n",
    "6. Model Evaluation\n"
   ]
  },
  {
   "cell_type": "code",
   "execution_count": 1,
   "metadata": {},
   "outputs": [],
   "source": [
    "#Import all the tools we need \n",
    "\n",
    "#Regular EDA(Exploratoty Data Analysis)\n",
    "import pandas as pd\n",
    "import numpy as np\n",
    "import seaborn as sns\n",
    "import matplotlib.pyplot as plt\n",
    "\n",
    "#We want our plots to appear inside our notebook\n",
    "%matplotlib inline\n",
    "\n",
    "#Models from Scikit-Learn\n",
    "from sklearn.linear_model import LogisticRegression\n",
    "from sklearn.neighbors import KNeighborsClassifier\n",
    "from sklearn.tree import DecisionTreeClassifier\n",
    "from sklearn.svm import SVC\n",
    "from xgboost import XGBClassifier\n",
    "from sklearn.ensemble import RandomForestClassifier\n",
    "\n",
    "#Model Evaluations\n",
    "from sklearn.model_selection import train_test_split,cross_val_score\n",
    "from sklearn.metrics import confusion_matrix,classification_report\n",
    "from sklearn.metrics import accuracy_score,precision_score,recall_score,f1_score\n",
    "from sklearn.metrics import roc_curve\n"
   ]
  },
  {
   "cell_type": "markdown",
   "metadata": {},
   "source": [
    "### TYPES OF ATTACKS \n",
    "1. DENIAL OF SERVICE (DoS): the DoS attack is caused by having too many unwanted traffic in a single source or receiver. The    attacker sends too many ambiguous packets to flood out the target and make its services unavailable to other services . In the dataset, 5780 samples are containing a DoS attack.\n",
    "\n",
    "\n",
    "2. DATA TYPE PROBING(D.P): in this case, a malicious node writes different data type than intended data type . In the dataset, there are 342 samples of Data Type Probing.\n",
    "\n",
    "\n",
    "3. MALICIOUS CONTROL (M.C): with software vulnerabilities sometimes the attacker can gain a valid session key or somehow capture network traffic. In this way, malicious one can control the whole system. The Dataset contains 889 samples of Malicious Control.\n",
    "\n",
    "\n",
    "4. MALICIOUS OPERATION (M.O): Malicious Operations are generally caused by malware. Malware means decoy activity which distracts the original operation. Device’s performances can negatively be affected by this malicious operation .805 samples of the dataset contain Malicious Operation.\n",
    "\n",
    "\n",
    "5. SCAN (SC): sometimes the data is acquired through hardware by scanning the system, and in this process sometimes the data can get corrupted. In the dataset, 1547 samples were containing Scan.\n",
    "\n",
    "\n",
    "6. SPYING (SP): by Spying, the attacker exploits the vulnerabilities of the system, and they use a backdoor channel to break into the system and discovers important information. In some cases, they manipulate data causing great hamper to the whole system. The dataset contains 532 samples of Spying.\n",
    "\n",
    "\n",
    "7. WRONG SETUP (W.S): the data may also get disrupted by the wrong system setup . The dataset contains 122 samples of the Wrong Setup.\n",
    "\n",
    "\n",
    "8. NORMAL (NL): if the data is entirely correct and accurate, then the data is called normal data. Out of the 357,952 samples, 347,935 samples are of a normal class."
   ]
  },
  {
   "cell_type": "code",
   "execution_count": 2,
   "metadata": {},
   "outputs": [
    {
     "data": {
      "text/html": [
       "<div>\n",
       "<style scoped>\n",
       "    .dataframe tbody tr th:only-of-type {\n",
       "        vertical-align: middle;\n",
       "    }\n",
       "\n",
       "    .dataframe tbody tr th {\n",
       "        vertical-align: top;\n",
       "    }\n",
       "\n",
       "    .dataframe thead th {\n",
       "        text-align: right;\n",
       "    }\n",
       "</style>\n",
       "<table border=\"1\" class=\"dataframe\">\n",
       "  <thead>\n",
       "    <tr style=\"text-align: right;\">\n",
       "      <th></th>\n",
       "      <th>sourceID</th>\n",
       "      <th>sourceAddress</th>\n",
       "      <th>sourceType</th>\n",
       "      <th>sourceLocation</th>\n",
       "      <th>destinationServiceAddress</th>\n",
       "      <th>destinationServiceType</th>\n",
       "      <th>destinationLocation</th>\n",
       "      <th>accessedNodeAddress</th>\n",
       "      <th>accessedNodeType</th>\n",
       "      <th>operation</th>\n",
       "      <th>value</th>\n",
       "      <th>timestamp</th>\n",
       "      <th>normality</th>\n",
       "    </tr>\n",
       "  </thead>\n",
       "  <tbody>\n",
       "    <tr>\n",
       "      <th>0</th>\n",
       "      <td>lightcontrol2</td>\n",
       "      <td>/agent2/lightcontrol2</td>\n",
       "      <td>/lightControler</td>\n",
       "      <td>BedroomParents</td>\n",
       "      <td>/agent2/lightcontrol2</td>\n",
       "      <td>/lightControler</td>\n",
       "      <td>BedroomParents</td>\n",
       "      <td>/agent2/lightcontrol2</td>\n",
       "      <td>/lightControler</td>\n",
       "      <td>registerService</td>\n",
       "      <td>none</td>\n",
       "      <td>1520031600000</td>\n",
       "      <td>normal</td>\n",
       "    </tr>\n",
       "    <tr>\n",
       "      <th>1</th>\n",
       "      <td>lightcontrol3</td>\n",
       "      <td>/agent3/lightcontrol3</td>\n",
       "      <td>/lightControler</td>\n",
       "      <td>Dinningroom</td>\n",
       "      <td>/agent3/lightcontrol3</td>\n",
       "      <td>/lightControler</td>\n",
       "      <td>Dinningroom</td>\n",
       "      <td>/agent3/lightcontrol3</td>\n",
       "      <td>/lightControler</td>\n",
       "      <td>registerService</td>\n",
       "      <td>none</td>\n",
       "      <td>1520031603269</td>\n",
       "      <td>normal</td>\n",
       "    </tr>\n",
       "    <tr>\n",
       "      <th>2</th>\n",
       "      <td>lightcontrol1</td>\n",
       "      <td>/agent1/lightcontrol1</td>\n",
       "      <td>/lightControler</td>\n",
       "      <td>BedroomChildren</td>\n",
       "      <td>/agent1/lightcontrol1</td>\n",
       "      <td>/lightControler</td>\n",
       "      <td>BedroomChildren</td>\n",
       "      <td>/agent1/lightcontrol1</td>\n",
       "      <td>/lightControler</td>\n",
       "      <td>registerService</td>\n",
       "      <td>none</td>\n",
       "      <td>1520031603279</td>\n",
       "      <td>normal</td>\n",
       "    </tr>\n",
       "    <tr>\n",
       "      <th>3</th>\n",
       "      <td>lightcontrol4</td>\n",
       "      <td>/agent4/lightcontrol4</td>\n",
       "      <td>/lightControler</td>\n",
       "      <td>Kitchen</td>\n",
       "      <td>/agent4/lightcontrol4</td>\n",
       "      <td>/lightControler</td>\n",
       "      <td>Kitchen</td>\n",
       "      <td>/agent4/lightcontrol4</td>\n",
       "      <td>/lightControler</td>\n",
       "      <td>registerService</td>\n",
       "      <td>none</td>\n",
       "      <td>1520031603290</td>\n",
       "      <td>normal</td>\n",
       "    </tr>\n",
       "    <tr>\n",
       "      <th>4</th>\n",
       "      <td>movement4</td>\n",
       "      <td>/agent4/movement4</td>\n",
       "      <td>/movementSensor</td>\n",
       "      <td>Kitchen</td>\n",
       "      <td>/agent4/movement4</td>\n",
       "      <td>/movementSensor</td>\n",
       "      <td>Kitchen</td>\n",
       "      <td>/agent4/movement4</td>\n",
       "      <td>/movementSensor</td>\n",
       "      <td>registerService</td>\n",
       "      <td>none</td>\n",
       "      <td>1520031603464</td>\n",
       "      <td>normal</td>\n",
       "    </tr>\n",
       "  </tbody>\n",
       "</table>\n",
       "</div>"
      ],
      "text/plain": [
       "        sourceID          sourceAddress       sourceType   sourceLocation  \\\n",
       "0  lightcontrol2  /agent2/lightcontrol2  /lightControler   BedroomParents   \n",
       "1  lightcontrol3  /agent3/lightcontrol3  /lightControler      Dinningroom   \n",
       "2  lightcontrol1  /agent1/lightcontrol1  /lightControler  BedroomChildren   \n",
       "3  lightcontrol4  /agent4/lightcontrol4  /lightControler          Kitchen   \n",
       "4      movement4      /agent4/movement4  /movementSensor          Kitchen   \n",
       "\n",
       "  destinationServiceAddress destinationServiceType destinationLocation  \\\n",
       "0     /agent2/lightcontrol2        /lightControler      BedroomParents   \n",
       "1     /agent3/lightcontrol3        /lightControler         Dinningroom   \n",
       "2     /agent1/lightcontrol1        /lightControler     BedroomChildren   \n",
       "3     /agent4/lightcontrol4        /lightControler             Kitchen   \n",
       "4         /agent4/movement4        /movementSensor             Kitchen   \n",
       "\n",
       "     accessedNodeAddress accessedNodeType        operation value  \\\n",
       "0  /agent2/lightcontrol2  /lightControler  registerService  none   \n",
       "1  /agent3/lightcontrol3  /lightControler  registerService  none   \n",
       "2  /agent1/lightcontrol1  /lightControler  registerService  none   \n",
       "3  /agent4/lightcontrol4  /lightControler  registerService  none   \n",
       "4      /agent4/movement4  /movementSensor  registerService  none   \n",
       "\n",
       "       timestamp normality  \n",
       "0  1520031600000    normal  \n",
       "1  1520031603269    normal  \n",
       "2  1520031603279    normal  \n",
       "3  1520031603290    normal  \n",
       "4  1520031603464    normal  "
      ]
     },
     "execution_count": 2,
     "metadata": {},
     "output_type": "execute_result"
    }
   ],
   "source": [
    "#Load data and check\n",
    "iot_sensors = pd.read_csv(\"iotsensor.csv\")\n",
    "iot_sensors.head()"
   ]
  },
  {
   "cell_type": "markdown",
   "metadata": {},
   "source": [
    "### FEATURES :\n",
    "    \n",
    "1.  Source ID\n",
    "2.  Source Address\n",
    "3.  Source Type\n",
    "4.  Source Location\n",
    "5.  Destination Service Address\n",
    "6.  Destination Service Type\n",
    "7.  Destination Location\n",
    "8.  Accessed Node Address\n",
    "9.  Accessed Node Type\n",
    "10. Operation\n",
    "11. Value\n",
    "12. Timestamp\n",
    "13. Normality"
   ]
  },
  {
   "cell_type": "markdown",
   "metadata": {},
   "source": [
    "# Data Exploration  (Exploratory Data Analysis or EDA)\n",
    "Thr goal here is to find out more about the data and become a subject matter expert on the dataset we are working with .\n",
    "\n",
    "1. What questions are we trying to solve ?\n",
    "2. What kind of data do we have and how do we treat different types ?\n",
    "3. What's missing from the data and how do we deal with it ?\n",
    "4. What are the outliers and why we should care about them ?\n",
    "5. How can we add,change or remove features to get more out of our data ?"
   ]
  },
  {
   "cell_type": "code",
   "execution_count": 3,
   "metadata": {},
   "outputs": [
    {
     "data": {
      "text/html": [
       "<div>\n",
       "<style scoped>\n",
       "    .dataframe tbody tr th:only-of-type {\n",
       "        vertical-align: middle;\n",
       "    }\n",
       "\n",
       "    .dataframe tbody tr th {\n",
       "        vertical-align: top;\n",
       "    }\n",
       "\n",
       "    .dataframe thead th {\n",
       "        text-align: right;\n",
       "    }\n",
       "</style>\n",
       "<table border=\"1\" class=\"dataframe\">\n",
       "  <thead>\n",
       "    <tr style=\"text-align: right;\">\n",
       "      <th></th>\n",
       "      <th>sourceID</th>\n",
       "      <th>sourceAddress</th>\n",
       "      <th>sourceType</th>\n",
       "      <th>sourceLocation</th>\n",
       "      <th>destinationServiceAddress</th>\n",
       "      <th>destinationServiceType</th>\n",
       "      <th>destinationLocation</th>\n",
       "      <th>accessedNodeAddress</th>\n",
       "      <th>accessedNodeType</th>\n",
       "      <th>operation</th>\n",
       "      <th>value</th>\n",
       "      <th>timestamp</th>\n",
       "      <th>normality</th>\n",
       "    </tr>\n",
       "  </thead>\n",
       "  <tbody>\n",
       "    <tr>\n",
       "      <th>0</th>\n",
       "      <td>lightcontrol2</td>\n",
       "      <td>/agent2/lightcontrol2</td>\n",
       "      <td>/lightControler</td>\n",
       "      <td>BedroomParents</td>\n",
       "      <td>/agent2/lightcontrol2</td>\n",
       "      <td>/lightControler</td>\n",
       "      <td>BedroomParents</td>\n",
       "      <td>/agent2/lightcontrol2</td>\n",
       "      <td>/lightControler</td>\n",
       "      <td>registerService</td>\n",
       "      <td>none</td>\n",
       "      <td>1520031600000</td>\n",
       "      <td>normal</td>\n",
       "    </tr>\n",
       "    <tr>\n",
       "      <th>1</th>\n",
       "      <td>lightcontrol3</td>\n",
       "      <td>/agent3/lightcontrol3</td>\n",
       "      <td>/lightControler</td>\n",
       "      <td>Dinningroom</td>\n",
       "      <td>/agent3/lightcontrol3</td>\n",
       "      <td>/lightControler</td>\n",
       "      <td>Dinningroom</td>\n",
       "      <td>/agent3/lightcontrol3</td>\n",
       "      <td>/lightControler</td>\n",
       "      <td>registerService</td>\n",
       "      <td>none</td>\n",
       "      <td>1520031603269</td>\n",
       "      <td>normal</td>\n",
       "    </tr>\n",
       "    <tr>\n",
       "      <th>2</th>\n",
       "      <td>lightcontrol1</td>\n",
       "      <td>/agent1/lightcontrol1</td>\n",
       "      <td>/lightControler</td>\n",
       "      <td>BedroomChildren</td>\n",
       "      <td>/agent1/lightcontrol1</td>\n",
       "      <td>/lightControler</td>\n",
       "      <td>BedroomChildren</td>\n",
       "      <td>/agent1/lightcontrol1</td>\n",
       "      <td>/lightControler</td>\n",
       "      <td>registerService</td>\n",
       "      <td>none</td>\n",
       "      <td>1520031603279</td>\n",
       "      <td>normal</td>\n",
       "    </tr>\n",
       "    <tr>\n",
       "      <th>3</th>\n",
       "      <td>lightcontrol4</td>\n",
       "      <td>/agent4/lightcontrol4</td>\n",
       "      <td>/lightControler</td>\n",
       "      <td>Kitchen</td>\n",
       "      <td>/agent4/lightcontrol4</td>\n",
       "      <td>/lightControler</td>\n",
       "      <td>Kitchen</td>\n",
       "      <td>/agent4/lightcontrol4</td>\n",
       "      <td>/lightControler</td>\n",
       "      <td>registerService</td>\n",
       "      <td>none</td>\n",
       "      <td>1520031603290</td>\n",
       "      <td>normal</td>\n",
       "    </tr>\n",
       "    <tr>\n",
       "      <th>4</th>\n",
       "      <td>movement4</td>\n",
       "      <td>/agent4/movement4</td>\n",
       "      <td>/movementSensor</td>\n",
       "      <td>Kitchen</td>\n",
       "      <td>/agent4/movement4</td>\n",
       "      <td>/movementSensor</td>\n",
       "      <td>Kitchen</td>\n",
       "      <td>/agent4/movement4</td>\n",
       "      <td>/movementSensor</td>\n",
       "      <td>registerService</td>\n",
       "      <td>none</td>\n",
       "      <td>1520031603464</td>\n",
       "      <td>normal</td>\n",
       "    </tr>\n",
       "  </tbody>\n",
       "</table>\n",
       "</div>"
      ],
      "text/plain": [
       "        sourceID          sourceAddress       sourceType   sourceLocation  \\\n",
       "0  lightcontrol2  /agent2/lightcontrol2  /lightControler   BedroomParents   \n",
       "1  lightcontrol3  /agent3/lightcontrol3  /lightControler      Dinningroom   \n",
       "2  lightcontrol1  /agent1/lightcontrol1  /lightControler  BedroomChildren   \n",
       "3  lightcontrol4  /agent4/lightcontrol4  /lightControler          Kitchen   \n",
       "4      movement4      /agent4/movement4  /movementSensor          Kitchen   \n",
       "\n",
       "  destinationServiceAddress destinationServiceType destinationLocation  \\\n",
       "0     /agent2/lightcontrol2        /lightControler      BedroomParents   \n",
       "1     /agent3/lightcontrol3        /lightControler         Dinningroom   \n",
       "2     /agent1/lightcontrol1        /lightControler     BedroomChildren   \n",
       "3     /agent4/lightcontrol4        /lightControler             Kitchen   \n",
       "4         /agent4/movement4        /movementSensor             Kitchen   \n",
       "\n",
       "     accessedNodeAddress accessedNodeType        operation value  \\\n",
       "0  /agent2/lightcontrol2  /lightControler  registerService  none   \n",
       "1  /agent3/lightcontrol3  /lightControler  registerService  none   \n",
       "2  /agent1/lightcontrol1  /lightControler  registerService  none   \n",
       "3  /agent4/lightcontrol4  /lightControler  registerService  none   \n",
       "4      /agent4/movement4  /movementSensor  registerService  none   \n",
       "\n",
       "       timestamp normality  \n",
       "0  1520031600000    normal  \n",
       "1  1520031603269    normal  \n",
       "2  1520031603279    normal  \n",
       "3  1520031603290    normal  \n",
       "4  1520031603464    normal  "
      ]
     },
     "execution_count": 3,
     "metadata": {},
     "output_type": "execute_result"
    }
   ],
   "source": [
    "iot_sensors.head()"
   ]
  },
  {
   "cell_type": "code",
   "execution_count": 4,
   "metadata": {},
   "outputs": [
    {
     "data": {
      "text/html": [
       "<div>\n",
       "<style scoped>\n",
       "    .dataframe tbody tr th:only-of-type {\n",
       "        vertical-align: middle;\n",
       "    }\n",
       "\n",
       "    .dataframe tbody tr th {\n",
       "        vertical-align: top;\n",
       "    }\n",
       "\n",
       "    .dataframe thead th {\n",
       "        text-align: right;\n",
       "    }\n",
       "</style>\n",
       "<table border=\"1\" class=\"dataframe\">\n",
       "  <thead>\n",
       "    <tr style=\"text-align: right;\">\n",
       "      <th></th>\n",
       "      <th>sourceID</th>\n",
       "      <th>sourceAddress</th>\n",
       "      <th>sourceType</th>\n",
       "      <th>sourceLocation</th>\n",
       "      <th>destinationServiceAddress</th>\n",
       "      <th>destinationServiceType</th>\n",
       "      <th>destinationLocation</th>\n",
       "      <th>accessedNodeAddress</th>\n",
       "      <th>accessedNodeType</th>\n",
       "      <th>operation</th>\n",
       "      <th>value</th>\n",
       "      <th>timestamp</th>\n",
       "      <th>normality</th>\n",
       "    </tr>\n",
       "  </thead>\n",
       "  <tbody>\n",
       "    <tr>\n",
       "      <th>357947</th>\n",
       "      <td>lightcontrol23</td>\n",
       "      <td>/agent23/lightcontrol23</td>\n",
       "      <td>/lightControler</td>\n",
       "      <td>room_4</td>\n",
       "      <td>/agent23/tempin23</td>\n",
       "      <td>/sensorService</td>\n",
       "      <td>room_4</td>\n",
       "      <td>/agent23/tempin23</td>\n",
       "      <td>/sensorService</td>\n",
       "      <td>read</td>\n",
       "      <td>20.3479</td>\n",
       "      <td>1520117997001</td>\n",
       "      <td>normal</td>\n",
       "    </tr>\n",
       "    <tr>\n",
       "      <th>357948</th>\n",
       "      <td>washingmachine2</td>\n",
       "      <td>/agent11/washingmachine2</td>\n",
       "      <td>/washingService</td>\n",
       "      <td>Watterroom</td>\n",
       "      <td>/agent11/battery4</td>\n",
       "      <td>/batteryService</td>\n",
       "      <td>Watterroom</td>\n",
       "      <td>/agent11/battery4/charge</td>\n",
       "      <td>/basic/number</td>\n",
       "      <td>read</td>\n",
       "      <td>9</td>\n",
       "      <td>1520117997339</td>\n",
       "      <td>normal</td>\n",
       "    </tr>\n",
       "    <tr>\n",
       "      <th>357949</th>\n",
       "      <td>washingmachine2</td>\n",
       "      <td>/agent11/washingmachine2</td>\n",
       "      <td>/washingService</td>\n",
       "      <td>Watterroom</td>\n",
       "      <td>/agent11/battery4</td>\n",
       "      <td>/batteryService</td>\n",
       "      <td>Watterroom</td>\n",
       "      <td>/agent11/battery4/charging</td>\n",
       "      <td>/basic/text</td>\n",
       "      <td>read</td>\n",
       "      <td>true</td>\n",
       "      <td>1520117997401</td>\n",
       "      <td>normal</td>\n",
       "    </tr>\n",
       "    <tr>\n",
       "      <th>357950</th>\n",
       "      <td>lightcontrol28</td>\n",
       "      <td>/agent28/lightcontrol28</td>\n",
       "      <td>/lightControler</td>\n",
       "      <td>room_9</td>\n",
       "      <td>/agent28/movement28</td>\n",
       "      <td>/movementSensor</td>\n",
       "      <td>room_9</td>\n",
       "      <td>/agent28/movement28/movement</td>\n",
       "      <td>/derived/boolean</td>\n",
       "      <td>read</td>\n",
       "      <td>0</td>\n",
       "      <td>1520117998907</td>\n",
       "      <td>normal</td>\n",
       "    </tr>\n",
       "    <tr>\n",
       "      <th>357951</th>\n",
       "      <td>lightcontrol28</td>\n",
       "      <td>/agent28/lightcontrol28</td>\n",
       "      <td>/lightControler</td>\n",
       "      <td>room_9</td>\n",
       "      <td>/agent28/tempin28</td>\n",
       "      <td>/sensorService</td>\n",
       "      <td>room_9</td>\n",
       "      <td>/agent28/tempin28</td>\n",
       "      <td>/sensorService</td>\n",
       "      <td>read</td>\n",
       "      <td>20.4131</td>\n",
       "      <td>1520117999000</td>\n",
       "      <td>normal</td>\n",
       "    </tr>\n",
       "  </tbody>\n",
       "</table>\n",
       "</div>"
      ],
      "text/plain": [
       "               sourceID             sourceAddress       sourceType  \\\n",
       "357947   lightcontrol23   /agent23/lightcontrol23  /lightControler   \n",
       "357948  washingmachine2  /agent11/washingmachine2  /washingService   \n",
       "357949  washingmachine2  /agent11/washingmachine2  /washingService   \n",
       "357950   lightcontrol28   /agent28/lightcontrol28  /lightControler   \n",
       "357951   lightcontrol28   /agent28/lightcontrol28  /lightControler   \n",
       "\n",
       "       sourceLocation destinationServiceAddress destinationServiceType  \\\n",
       "357947         room_4         /agent23/tempin23         /sensorService   \n",
       "357948     Watterroom         /agent11/battery4        /batteryService   \n",
       "357949     Watterroom         /agent11/battery4        /batteryService   \n",
       "357950         room_9       /agent28/movement28        /movementSensor   \n",
       "357951         room_9         /agent28/tempin28         /sensorService   \n",
       "\n",
       "       destinationLocation           accessedNodeAddress  accessedNodeType  \\\n",
       "357947              room_4             /agent23/tempin23    /sensorService   \n",
       "357948          Watterroom      /agent11/battery4/charge     /basic/number   \n",
       "357949          Watterroom    /agent11/battery4/charging       /basic/text   \n",
       "357950              room_9  /agent28/movement28/movement  /derived/boolean   \n",
       "357951              room_9             /agent28/tempin28    /sensorService   \n",
       "\n",
       "       operation    value      timestamp normality  \n",
       "357947      read  20.3479  1520117997001    normal  \n",
       "357948      read        9  1520117997339    normal  \n",
       "357949      read     true  1520117997401    normal  \n",
       "357950      read        0  1520117998907    normal  \n",
       "357951      read  20.4131  1520117999000    normal  "
      ]
     },
     "execution_count": 4,
     "metadata": {},
     "output_type": "execute_result"
    }
   ],
   "source": [
    "iot_sensors.tail()"
   ]
  },
  {
   "cell_type": "code",
   "execution_count": 5,
   "metadata": {},
   "outputs": [
    {
     "data": {
      "text/plain": [
       "(357952, 13)"
      ]
     },
     "execution_count": 5,
     "metadata": {},
     "output_type": "execute_result"
    }
   ],
   "source": [
    "iot_sensors.shape # We have around 357,953 Rows and 13 columns/Features "
   ]
  },
  {
   "cell_type": "code",
   "execution_count": 6,
   "metadata": {},
   "outputs": [
    {
     "data": {
      "text/plain": [
       "normal                           347935\n",
       "anomalous(DoSattack)               5780\n",
       "anomalous(scan)                    1547\n",
       "anomalous(malitiousControl)         889\n",
       "anomalous(malitiousOperation)       805\n",
       "anomalous(spying)                   532\n",
       "anomalous(dataProbing)              342\n",
       "anomalous(wrongSetUp)               122\n",
       "Name: normality, dtype: int64"
      ]
     },
     "execution_count": 6,
     "metadata": {},
     "output_type": "execute_result"
    }
   ],
   "source": [
    "#Let's check how many of each classes are there\n",
    "iot_sensors[\"normality\"].value_counts()"
   ]
  },
  {
   "cell_type": "code",
   "execution_count": 7,
   "metadata": {},
   "outputs": [],
   "source": [
    "#We observe that its basically a Multi-Class dataset , since it consists of 8 different classes of attacks faced in \n",
    "#IOT infrastructure"
   ]
  },
  {
   "cell_type": "code",
   "execution_count": 8,
   "metadata": {},
   "outputs": [
    {
     "data": {
      "text/plain": [
       "sourceID                     object\n",
       "sourceAddress                object\n",
       "sourceType                   object\n",
       "sourceLocation               object\n",
       "destinationServiceAddress    object\n",
       "destinationServiceType       object\n",
       "destinationLocation          object\n",
       "accessedNodeAddress          object\n",
       "accessedNodeType             object\n",
       "operation                    object\n",
       "value                        object\n",
       "timestamp                     int64\n",
       "normality                    object\n",
       "dtype: object"
      ]
     },
     "execution_count": 8,
     "metadata": {},
     "output_type": "execute_result"
    }
   ],
   "source": [
    "iot_sensors.dtypes"
   ]
  },
  {
   "cell_type": "code",
   "execution_count": 9,
   "metadata": {},
   "outputs": [
    {
     "data": {
      "text/plain": [
       "sourceID                        0\n",
       "sourceAddress                   0\n",
       "sourceType                      0\n",
       "sourceLocation                  0\n",
       "destinationServiceAddress       0\n",
       "destinationServiceType          0\n",
       "destinationLocation             0\n",
       "accessedNodeAddress             0\n",
       "accessedNodeType              148\n",
       "operation                       0\n",
       "value                        2050\n",
       "timestamp                       0\n",
       "normality                       0\n",
       "dtype: int64"
      ]
     },
     "execution_count": 9,
     "metadata": {},
     "output_type": "execute_result"
    }
   ],
   "source": [
    "#Check missing values\n",
    "iot_sensors.isna().sum()"
   ]
  },
  {
   "cell_type": "code",
   "execution_count": 10,
   "metadata": {},
   "outputs": [
    {
     "data": {
      "text/plain": [
       "sourceID                         84\n",
       "sourceAddress                    89\n",
       "sourceType                        8\n",
       "sourceLocation                   21\n",
       "destinationServiceAddress        85\n",
       "destinationServiceType            8\n",
       "destinationLocation              21\n",
       "accessedNodeAddress             170\n",
       "accessedNodeType                 12\n",
       "operation                         5\n",
       "value                         10623\n",
       "timestamp                    327811\n",
       "normality                         8\n",
       "dtype: int64"
      ]
     },
     "execution_count": 10,
     "metadata": {},
     "output_type": "execute_result"
    }
   ],
   "source": [
    "#This is to check how many unique values exists within a feature variable\n",
    "iot_sensors.nunique()"
   ]
  },
  {
   "cell_type": "code",
   "execution_count": 11,
   "metadata": {},
   "outputs": [],
   "source": [
    "#We replaced certain values and added missing values\n",
    "iot_sensors[\"value\"] = iot_sensors[\"value\"].replace([\"false\",\"true\",\"twenty\",\"none\"],[\"0.0\",\"1.0\",\"20.0\",\"0.0\"])\n",
    "iot_sensors[\"value\"].fillna(\"0.0\",inplace=True)\n",
    "iot_sensors[\"accessedNodeType\"].fillna(\"malicious\",inplace=True)\n",
    "iot_sensors['value'] = iot_sensors['value'].astype(str)"
   ]
  },
  {
   "cell_type": "code",
   "execution_count": 12,
   "metadata": {},
   "outputs": [
    {
     "data": {
      "text/plain": [
       "sourceID                         84\n",
       "sourceAddress                    89\n",
       "sourceType                        8\n",
       "sourceLocation                   21\n",
       "destinationServiceAddress        85\n",
       "destinationServiceType            8\n",
       "destinationLocation              21\n",
       "accessedNodeAddress             170\n",
       "accessedNodeType                 13\n",
       "operation                         5\n",
       "value                         10621\n",
       "timestamp                    327811\n",
       "normality                         8\n",
       "dtype: int64"
      ]
     },
     "execution_count": 12,
     "metadata": {},
     "output_type": "execute_result"
    }
   ],
   "source": [
    "#To find how many uniques/distinct values exist within the features\n",
    "iot_sensors.nunique()"
   ]
  },
  {
   "cell_type": "code",
   "execution_count": 13,
   "metadata": {},
   "outputs": [
    {
     "data": {
      "text/plain": [
       "sourceID                     0\n",
       "sourceAddress                0\n",
       "sourceType                   0\n",
       "sourceLocation               0\n",
       "destinationServiceAddress    0\n",
       "destinationServiceType       0\n",
       "destinationLocation          0\n",
       "accessedNodeAddress          0\n",
       "accessedNodeType             0\n",
       "operation                    0\n",
       "value                        0\n",
       "timestamp                    0\n",
       "normality                    0\n",
       "dtype: int64"
      ]
     },
     "execution_count": 13,
     "metadata": {},
     "output_type": "execute_result"
    }
   ],
   "source": [
    "iot_sensors.isna().sum()"
   ]
  },
  {
   "cell_type": "code",
   "execution_count": 14,
   "metadata": {},
   "outputs": [],
   "source": [
    "#Convert categorical variables to vectors/convert object data type to floating number with the help of Label Encoder"
   ]
  },
  {
   "cell_type": "code",
   "execution_count": 15,
   "metadata": {},
   "outputs": [],
   "source": [
    "from sklearn.preprocessing import LabelEncoder\n",
    "iot_sensors2 = iot_sensors.apply(LabelEncoder().fit_transform)"
   ]
  },
  {
   "cell_type": "code",
   "execution_count": 16,
   "metadata": {},
   "outputs": [
    {
     "data": {
      "image/png": "[encoded data removed]",
      "text/plain": [
       "<Figure size 1440x1440 with 6 Axes>"
      ]
     },
     "metadata": {
      "needs_background": "light"
     },
     "output_type": "display_data"
    }
   ],
   "source": [
    "#BAR CHART REPRESENTATION OF FEATURES WITH  SMALL MULTIPLE CLASSES\n",
    "\n",
    "# Frequencies of (a) Source Type (b) Destination Type (c) Source Location (d) Destination Location (e) Accessed Node\n",
    "# (f) Operation\n",
    "\n",
    "# 'lc' = Light Controller, 'ss' = Sensor Service, 'bs' = Battery Service, 'ws' = Washing Service,'ts' = Thermostat,\n",
    "# 'ms' = Movement Sensor, 'ds' = Door Lock Service, 'sp' = Smart Phone, 'gg' = Garage, 'bp' = Bedroom Parents,'et' = Entrance, \n",
    "# 'lr' = Living Room, 'sr' = Showerroom, 'kt' = Kitchen, 'dr' = Dining Room, 'wr' = Water Room, 'bd' = Bedroom, 'bt' = Bathroom, \n",
    "# 'bc' = Bedroom Children, 'r1–r10' = room1 to room10, 'tt' = Text, 'nb' = Number, 'bl' = Boolean, 'mc' = Malicious, 'cp' = Composed,\n",
    "# 'rd' = Read, 'rs' = Register Service, 'wr' = Write, 'ls' = Lock Sub Tree].\n",
    "\n",
    "fig,((ax00,ax01),\n",
    "     (ax10,ax11),\n",
    "     (ax20,ax21)) = plt.subplots(3, 2, figsize=(20, 20))\n",
    "\n",
    "iot_sensors2['sourceType'].value_counts().plot(kind=\"bar\",ax=ax00)\n",
    "labels = ['lc', 'ss', 'bs', 'ws', 'ts','ms','ds','sp']\n",
    "ax00.set_xticklabels(labels, rotation=0)\n",
    "ax00.set(title=\"Source Type Bar Chart\",xlabel=\"source Type\",ylabel = \"Number of Occurence\")\n",
    "\n",
    "iot_sensors2['destinationServiceType'].value_counts().plot(kind=\"bar\",ax=ax01)\n",
    "labels = ['ss', 'ms', 'bs', 'ws', 'lc','ds','ts','sp']\n",
    "ax01.set_xticklabels(labels, rotation=0)\n",
    "ax01.set(title=\"Destination Service Type Bar Chart\",xlabel=\"Destination Service\",ylabel = \"Number of Occurence\")\n",
    "\n",
    "iot_sensors2['sourceLocation'].value_counts().plot(kind=\"bar\",ax=ax10)\n",
    "labels = ['gg', 'wr', 'et', 'bt', 'sr','kt','dr','bc','r6','bd','bp','r8','r9','lr','r2','r1','r3','r5','r4','r7','r10']\n",
    "ax10.set_xticklabels(labels, rotation=0)\n",
    "ax10.set(title=\"Source Location Bar Chart\",xlabel=\"Source Location\",ylabel = \"Number of Occurence\")\n",
    "\n",
    "iot_sensors2['destinationLocation'].value_counts().plot(kind=\"bar\",ax=ax11)\n",
    "labels = ['gg', 'et', 'wr', 'kt', 'bc','bt','sr','bp','r9','r2','r1','lr','dr','r6','r3','r4','r5','r8','r7','r10','bd']\n",
    "ax11.set_xticklabels(labels, rotation=0)\n",
    "ax11.set(title=\"Destination Location Bar Chart\",xlabel=\"Destination Location \",ylabel = \"Number of Occurence\")\n",
    "\n",
    "iot_sensors2['accessedNodeType'].value_counts().plot(kind=\"bar\",ax=ax20)\n",
    "labels = ['ss', 'b1', 'nb', 'tt', 'ts','mc','cp','lc','ms','bs','ds','ws','sp']\n",
    "ax20.set_xticklabels(labels, rotation=0)\n",
    "ax20.set(title=\"Accessed Node Type Bar Chart\",xlabel=\"Accessed Node Type\",ylabel = \"Number of Occurence\")\n",
    "\n",
    "iot_sensors2['operation'].value_counts().plot(kind=\"bar\",ax=ax21)\n",
    "labels = ['rd', 'wr', 'ls', 'rs']\n",
    "ax21.set_xticklabels(labels, rotation=0)\n",
    "ax21.set(title=\"Operation Bar Chart\",xlabel=\"Operation\",ylabel = \"Number of Occurence\");"
   ]
  },
  {
   "cell_type": "markdown",
   "metadata": {},
   "source": [
    "### FEATURE SELECTION TECHNIQUES"
   ]
  },
  {
   "cell_type": "markdown",
   "metadata": {},
   "source": [
    "### 1) Univariate Selection\n",
    "Statistical test can be used to select those features that have the strongest relationship with the output variable.\n",
    "\n",
    "The scikit-learn library provides the SelectKBest class that can be used with a suit of different statistical tests to select a specific number of features.\n",
    "\n",
    "The example below uses the chi-squared statistical test for non-negative features to select 10 of the best features from Risk analysis dataset."
   ]
  },
  {
   "cell_type": "code",
   "execution_count": 17,
   "metadata": {},
   "outputs": [
    {
     "data": {
      "text/html": [
       "<div>\n",
       "<style scoped>\n",
       "    .dataframe tbody tr th:only-of-type {\n",
       "        vertical-align: middle;\n",
       "    }\n",
       "\n",
       "    .dataframe tbody tr th {\n",
       "        vertical-align: top;\n",
       "    }\n",
       "\n",
       "    .dataframe thead th {\n",
       "        text-align: right;\n",
       "    }\n",
       "</style>\n",
       "<table border=\"1\" class=\"dataframe\">\n",
       "  <thead>\n",
       "    <tr style=\"text-align: right;\">\n",
       "      <th></th>\n",
       "      <th>Specs</th>\n",
       "      <th>Score</th>\n",
       "    </tr>\n",
       "  </thead>\n",
       "  <tbody>\n",
       "    <tr>\n",
       "      <th>0</th>\n",
       "      <td>sourceID</td>\n",
       "      <td>1.367482e+05</td>\n",
       "    </tr>\n",
       "    <tr>\n",
       "      <th>1</th>\n",
       "      <td>sourceAddress</td>\n",
       "      <td>4.536705e+04</td>\n",
       "    </tr>\n",
       "    <tr>\n",
       "      <th>2</th>\n",
       "      <td>sourceType</td>\n",
       "      <td>9.977383e+03</td>\n",
       "    </tr>\n",
       "    <tr>\n",
       "      <th>3</th>\n",
       "      <td>sourceLocation</td>\n",
       "      <td>2.472473e+04</td>\n",
       "    </tr>\n",
       "    <tr>\n",
       "      <th>4</th>\n",
       "      <td>destinationServiceAddress</td>\n",
       "      <td>2.647577e+04</td>\n",
       "    </tr>\n",
       "    <tr>\n",
       "      <th>5</th>\n",
       "      <td>destinationServiceType</td>\n",
       "      <td>1.411998e+04</td>\n",
       "    </tr>\n",
       "    <tr>\n",
       "      <th>6</th>\n",
       "      <td>destinationLocation</td>\n",
       "      <td>2.451364e+04</td>\n",
       "    </tr>\n",
       "    <tr>\n",
       "      <th>7</th>\n",
       "      <td>accessedNodeAddress</td>\n",
       "      <td>5.005573e+04</td>\n",
       "    </tr>\n",
       "    <tr>\n",
       "      <th>8</th>\n",
       "      <td>accessedNodeType</td>\n",
       "      <td>3.184123e+03</td>\n",
       "    </tr>\n",
       "    <tr>\n",
       "      <th>9</th>\n",
       "      <td>operation</td>\n",
       "      <td>6.459718e+03</td>\n",
       "    </tr>\n",
       "    <tr>\n",
       "      <th>10</th>\n",
       "      <td>value</td>\n",
       "      <td>1.841966e+07</td>\n",
       "    </tr>\n",
       "    <tr>\n",
       "      <th>11</th>\n",
       "      <td>timestamp</td>\n",
       "      <td>1.255168e+08</td>\n",
       "    </tr>\n",
       "  </tbody>\n",
       "</table>\n",
       "</div>"
      ],
      "text/plain": [
       "                        Specs         Score\n",
       "0                    sourceID  1.367482e+05\n",
       "1               sourceAddress  4.536705e+04\n",
       "2                  sourceType  9.977383e+03\n",
       "3              sourceLocation  2.472473e+04\n",
       "4   destinationServiceAddress  2.647577e+04\n",
       "5      destinationServiceType  1.411998e+04\n",
       "6         destinationLocation  2.451364e+04\n",
       "7         accessedNodeAddress  5.005573e+04\n",
       "8            accessedNodeType  3.184123e+03\n",
       "9                   operation  6.459718e+03\n",
       "10                      value  1.841966e+07\n",
       "11                  timestamp  1.255168e+08"
      ]
     },
     "execution_count": 17,
     "metadata": {},
     "output_type": "execute_result"
    }
   ],
   "source": [
    "#UNIVARIATE SELECTION\n",
    "\n",
    "from sklearn.feature_selection import SelectKBest\n",
    "from sklearn.feature_selection import chi2\n",
    "\n",
    "X = iot_sensors2.drop(\"normality\",axis=1)\n",
    "y = iot_sensors2[\"normality\"]\n",
    "\n",
    "#apply SelectKBest classto extract top 10 best features\n",
    "bestfeatures = SelectKBest(score_func=chi2,k=10)\n",
    "fit=bestfeatures.fit(X,y)\n",
    "dfscores = pd.DataFrame(fit.scores_)\n",
    "dfcolumns = pd.DataFrame(X.columns)\n",
    "\n",
    "#concat two dataframes for better visualization\n",
    "featureScores = pd.concat([dfcolumns,dfscores],axis=1)\n",
    "featureScores.columns = [\"Specs\",\"Score\"]#naming the dataframe columns\n",
    "featureScores"
   ]
  },
  {
   "cell_type": "code",
   "execution_count": 18,
   "metadata": {},
   "outputs": [
    {
     "name": "stdout",
     "output_type": "stream",
     "text": [
      "                        Specs         Score\n",
      "11                  timestamp  1.255168e+08\n",
      "10                      value  1.841966e+07\n",
      "0                    sourceID  1.367482e+05\n",
      "7         accessedNodeAddress  5.005573e+04\n",
      "1               sourceAddress  4.536705e+04\n",
      "4   destinationServiceAddress  2.647577e+04\n",
      "3              sourceLocation  2.472473e+04\n",
      "6         destinationLocation  2.451364e+04\n",
      "5      destinationServiceType  1.411998e+04\n",
      "2                  sourceType  9.977383e+03\n"
     ]
    }
   ],
   "source": [
    "print(featureScores.nlargest(10,'Score')) #print 10 best features"
   ]
  },
  {
   "cell_type": "markdown",
   "metadata": {},
   "source": [
    "### 2) Feature Importance\n",
    "\n",
    "You can get the feature importance of each feature of your dataset by using the feature importance property of the model.\n",
    "\n",
    "Feature Importance gives you a score for each feature of your data, the higher the score more important or relevant is the feature towards your output variable.\n",
    "\n",
    "Feature importance is an inbuilt class that comes with tree based classifiers, we will be using extra tree classifiers for extracting the top 10 features for the dataset."
   ]
  },
  {
   "cell_type": "code",
   "execution_count": 19,
   "metadata": {},
   "outputs": [
    {
     "name": "stdout",
     "output_type": "stream",
     "text": [
      "[0.10493749 0.05443622 0.14518489 0.06376385 0.0515633  0.15586134\n",
      " 0.0573655  0.04570624 0.08426793 0.05926391 0.05530431 0.12234502]\n"
     ]
    },
    {
     "data": {
      "image/png": "[encoded data removed]",
      "text/plain": [
       "<Figure size 432x288 with 1 Axes>"
      ]
     },
     "metadata": {
      "needs_background": "light"
     },
     "output_type": "display_data"
    }
   ],
   "source": [
    "#FEATURE IMPORTANCE TECHNIQUE\n",
    "\n",
    "from sklearn.ensemble import ExtraTreesClassifier\n",
    "import matplotlib.pyplot as plt\n",
    "model = ExtraTreesClassifier(n_estimators = 100)\n",
    "model.fit(X,y)\n",
    "print(model.feature_importances_)#use  inbuilt class feature_importance of tree based classifiers\n",
    "\n",
    "#plot graph of feature importances for better visualization\n",
    "feat_importances = pd.Series(model.feature_importances_,index=X.columns)\n",
    "feat_importances.nlargest(10).plot(kind=\"barh\")\n",
    "plt.show()"
   ]
  },
  {
   "cell_type": "markdown",
   "metadata": {},
   "source": [
    "### 3) Correlation Matrix with Heatmap\n",
    "\n",
    "Correlation states how the features are related to each other or the target variable\n",
    "\n",
    "Correlation can be positive(increase in one value of feature increases the vlaue of the target variable) or negative (increase in one value of feature decreases the value of the target variable)\n",
    "\n",
    "Heatmap makes it easy to identify which features are most related to the target variable ,we will plot heatmap of correlated features using the seaborn library.\n"
   ]
  },
  {
   "cell_type": "code",
   "execution_count": 20,
   "metadata": {},
   "outputs": [
    {
     "data": {
      "image/png": "[encoded data removed]",
      "text/plain": [
       "<Figure size 720x720 with 2 Axes>"
      ]
     },
     "metadata": {
      "needs_background": "light"
     },
     "output_type": "display_data"
    }
   ],
   "source": [
    "#CORRELATION MATRIX : CHECKING OF MULTI-COLLINEARITY\n",
    "\n",
    "corr = iot_sensors2.corr()\n",
    "fig,ax = plt.subplots(figsize=(10,10))\n",
    "ax = sns.heatmap(\n",
    "    corr, \n",
    "    annot = True,\n",
    "    fmt='.1g',\n",
    "    vmin=-1, vmax=1, center=0,\n",
    "    linewidths=3,\n",
    "    linecolor='black',\n",
    "    cmap=sns.diverging_palette(20, 220, n=200),\n",
    "    square=True\n",
    ")\n",
    "ax.set_xticklabels(\n",
    "    ax.get_xticklabels(),\n",
    "    rotation=45,\n",
    "    horizontalalignment='right'\n",
    ");"
   ]
  },
  {
   "cell_type": "markdown",
   "metadata": {},
   "source": [
    "# MODELLING THE DATA"
   ]
  },
  {
   "cell_type": "code",
   "execution_count": 21,
   "metadata": {},
   "outputs": [],
   "source": [
    "#GETTING THE DATA READY\n",
    "\n",
    "#X = predictor variables\n",
    "#y = target variable\n",
    "\n",
    "X = iot_sensors2.drop(\"normality\",axis=1)\n",
    "y = iot_sensors2[\"normality\"]\n",
    "X_train,X_test,y_train,y_test = train_test_split(X,y,test_size=0.2)"
   ]
  },
  {
   "cell_type": "markdown",
   "metadata": {},
   "source": [
    "### Alternative Method\n",
    "This method is used to give accuracy scores of each model by running them all together but since it was taking too much\n",
    "time to run,I used each model seperately in later steps and skipped it for now ."
   ]
  },
  {
   "cell_type": "code",
   "execution_count": 22,
   "metadata": {},
   "outputs": [],
   "source": [
    "# we will try 4 different classification models\n",
    "#create a dicionary \"models\"\n",
    "#models = {\n",
    "#    \"LogisticRegression\":LogisticRegression(),\n",
    "#    \"KNeighborsClassifier\":KNeighborsClassifier(),\n",
    "#    \"DecisionTreeClassifier\":DecisionTreeClassifier(),\n",
    "#    \"RandomForestClassifier\":RandomForestClassifier()}\n",
    "\n",
    "#create a user-defined functions\n",
    "#def fit_and_score(models,X_train,X_test,y_train,y_test):\n",
    "#    model_scores = {}\n",
    "#    for name,model in models.items():\n",
    "#        model.fit(X_train,y_train)\n",
    "#        model_scores[name]=model.score(X_test,y_test)\n",
    "#    return model_scores\n",
    "        \n",
    "    "
   ]
  },
  {
   "cell_type": "code",
   "execution_count": 23,
   "metadata": {},
   "outputs": [],
   "source": [
    "#model_scores = fit_and_score(models=models,X_train=X_train,X_test=X_test,y_train=y_train,y_test=y_test)\n",
    "#model_scores"
   ]
  },
  {
   "cell_type": "markdown",
   "metadata": {},
   "source": [
    "# CLASSIFICATION MODELS :"
   ]
  },
  {
   "cell_type": "markdown",
   "metadata": {},
   "source": [
    "## LOGISTIC REGRESSION"
   ]
  },
  {
   "cell_type": "code",
   "execution_count": 24,
   "metadata": {},
   "outputs": [],
   "source": [
    "np.random.seed(0)\n",
    "lr = LogisticRegression()\n",
    "lr.fit(X_train,y_train)"
   ]
  },
  {
   "cell_type": "code",
   "execution_count": 25,
   "metadata": {},
   "outputs": [],
   "source": [
    "y_preds = lr.predict(X_test)\n",
    "y_preds"
   ]
  },
  {
   "cell_type": "code",
   "execution_count": 26,
   "metadata": {},
   "outputs": [],
   "source": [
    "accur_table = accuracy_score(y_test,y_preds)\n",
    "accur_table"
   ]
  },
  {
   "cell_type": "code",
   "execution_count": 27,
   "metadata": {},
   "outputs": [],
   "source": [
    "clr = classification_report(y_test,y_preds)\n",
    "print(clr)"
   ]
  },
  {
   "cell_type": "code",
   "execution_count": 28,
   "metadata": {},
   "outputs": [],
   "source": [
    "cm = confusion_matrix(y_test,y_preds)\n",
    "cm"
   ]
  },
  {
   "cell_type": "markdown",
   "metadata": {},
   "source": [
    "## MULTICLASS ROC CURVE FOR LOGISTIC REGRESSION"
   ]
  },
  {
   "cell_type": "code",
   "execution_count": 29,
   "metadata": {},
   "outputs": [],
   "source": [
    "\n",
    "import numpy as np\n",
    "import matplotlib.pyplot as plt\n",
    "from sklearn.metrics import roc_curve, auc\n",
    "from sklearn.preprocessing import label_binarize\n",
    "from sklearn.multiclass import OneVsRestClassifier\n",
    "\n",
    "# Import some data to play with\n",
    "X = iot_sensors2.drop(\"normality\",axis=1)\n",
    "y = iot_sensors2[\"normality\"]\n",
    "\n",
    "# Binarize the output\n",
    "y = label_binarize(y, classes=[0,1,2,3,4,5,6,7])\n",
    "n_classes = y.shape[1]\n",
    "\n",
    "# Add noisy features to make the problem harder\n",
    "random_state = np.random.RandomState(42)\n",
    "n_samples, n_features = X.shape\n",
    "X = np.c_[X, random_state.randn(n_samples, 200 * n_features)]\n",
    "\n",
    "# shuffle and split training and test sets\n",
    "X_train, X_test, y_train, y_test = train_test_split(X, y, test_size=0.2,\n",
    "                                                    random_state=42)\n",
    "\n",
    "# Learn to predict each class against the other\n",
    "lr2=LogisticRegression()\n",
    "classifier = OneVsRestClassifier(lr2)\n",
    "y_score = classifier.fit(X_train, y_train).decision_function(X_test)\n",
    "\n",
    "# Compute ROC curve and ROC area for each class\n",
    "fpr = dict()\n",
    "tpr = dict()\n",
    "roc_auc = dict()\n",
    "for i in range(n_classes):\n",
    "    fpr[i], tpr[i], _ = roc_curve(y_test[:, i], y_score[:, i])\n",
    "    roc_auc[i] = auc(fpr[i], tpr[i])\n",
    "\n",
    "# Compute micro-average ROC curve and ROC area\n",
    "fpr[\"micro\"], tpr[\"micro\"], _ = roc_curve(y_test.ravel(), y_score.ravel())\n",
    "roc_auc[\"micro\"] = auc(fpr[\"micro\"], tpr[\"micro\"])\n",
    "\n",
    "# Plot of a ROC curve for a specific class\n",
    "plt.figure()\n",
    "plt.plot(fpr[2], tpr[2], label='ROC curve (area = %0.2f)' % roc_auc[2])\n",
    "plt.plot([0, 1], [0, 1], 'k--')\n",
    "plt.xlim([0.0, 1.0])\n",
    "plt.ylim([0.0, 1.05])\n",
    "plt.xlabel('False Positive Rate')\n",
    "plt.ylabel('True Positive Rate')\n",
    "plt.title('Receiver operating characteristic example')\n",
    "plt.legend(loc=\"lower right\")\n",
    "plt.show()\n",
    "\n",
    "# Plot ROC curve\n",
    "plt.figure()\n",
    "plt.plot(fpr[\"micro\"], tpr[\"micro\"],\n",
    "         label='micro-average ROC curve (area = {0:0.2f})'\n",
    "               ''.format(roc_auc[\"micro\"]))\n",
    "for i in range(n_classes):\n",
    "    plt.plot(fpr[i], tpr[i], label='ROC curve of class {0} (area = {1:0.2f})'\n",
    "                                   ''.format(i, roc_auc[i]))\n",
    "\n",
    "plt.plot([0, 1], [0, 1], 'k--')\n",
    "plt.xlim([0.0, 1.0])\n",
    "plt.ylim([0.0, 1.05])\n",
    "plt.xlabel('False Positive Rate')\n",
    "plt.ylabel('True Positive Rate')\n",
    "plt.title('Some extension of Receiver operating characteristic to multi-class')\n",
    "plt.legend(loc=\"lower right\")\n",
    "plt.show()\n"
   ]
  },
  {
   "cell_type": "code",
   "execution_count": 30,
   "metadata": {},
   "outputs": [],
   "source": [
    "#CROSS VALIDATED ACCURACY SCORE\n",
    "\n",
    "lr_acc = cross_val_score(lr,X,y,cv=5,scoring=\"accuracy\")\n",
    "lr_acc\n"
   ]
  },
  {
   "cell_type": "markdown",
   "metadata": {},
   "source": [
    "### VISUALISATION OF LOGISTIC REGRESSION MODEL WITH THE HELP OF LEARNING CURVE USING CROSS VALIDATION METHOD"
   ]
  },
  {
   "cell_type": "code",
   "execution_count": 31,
   "metadata": {},
   "outputs": [],
   "source": [
    "\n",
    "X = iot_sensors2.drop(\"normality\",axis=1)\n",
    "y = iot_sensors2[\"normality\"]\n",
    "\n",
    "from sklearn.model_selection import learning_curve\n",
    "def plot_curve():\n",
    "    # instantiate\n",
    "    lr3 = LogisticRegression()\n",
    "\n",
    "    # fit\n",
    "    lr3.fit(X, y)\n",
    "    \n",
    "    \n",
    "    \"\"\"\n",
    "    Generate a simple plot of the test and traning learning curve.\n",
    "\n",
    "    Parameters\n",
    "    ----------\n",
    "    estimator : object type that implements the \"fit\" and \"predict\" methods\n",
    "        An object of that type which is cloned for each validation.\n",
    "\n",
    "    title : string\n",
    "        Title for the chart.\n",
    "\n",
    "    X : array-like, shape (n_samples, n_features)\n",
    "        Training vector, where n_samples is the number of samples and\n",
    "        n_features is the number of features.\n",
    "\n",
    "    y : array-like, shape (n_samples) or (n_samples, n_features), optional\n",
    "        Target relative to X for classification or regression;\n",
    "        None for unsupervised learning.\n",
    "\n",
    "    ylim : tuple, shape (ymin, ymax), optional\n",
    "        Defines minimum and maximum yvalues plotted.\n",
    "\n",
    "    cv : integer, cross-validation generator, optional\n",
    "        If an integer is passed, it is the number of folds (defaults to 3).\n",
    "        Specific cross-validation objects can be passed, see\n",
    "        sklearn.cross_validation module for the list of possible objects\n",
    "\n",
    "    n_jobs : integer, optional\n",
    "        Number of jobs to run in parallel (default 1).\n",
    "        \n",
    "    x1 = np.linspace(0, 10, 8, endpoint=True) produces\n",
    "        8 evenly spaced points in the range 0 to 10\n",
    "    \"\"\"\n",
    "    \n",
    "    train_sizes, train_scores, test_scores = learning_curve(lr3, X, y, n_jobs=-1, cv=5, train_sizes=np.linspace(.1, 1.0, 5), verbose=0)\n",
    "\n",
    "    train_scores_mean = np.mean(train_scores, axis=1)\n",
    "    train_scores_std = np.std(train_scores, axis=1)\n",
    "    test_scores_mean = np.mean(test_scores, axis=1)\n",
    "    test_scores_std = np.std(test_scores, axis=1)\n",
    "    \n",
    "    plt.figure()\n",
    "    plt.title(\"Logistic Regression\")\n",
    "    plt.legend(loc=\"best\")\n",
    "    plt.xlabel(\"Samples\")\n",
    "    plt.ylabel(\"Accuracy\")\n",
    "    plt.gca().invert_yaxis()\n",
    "   \n",
    "    \n",
    "    # box-like grid\n",
    "    plt.grid()\n",
    "    \n",
    "    # plot the std deviation as a transparent range at each training set size\n",
    "    plt.fill_between(train_sizes, train_scores_mean - train_scores_std, train_scores_mean + train_scores_std, alpha=0.1, color=\"r\")\n",
    "    plt.fill_between(train_sizes, test_scores_mean - test_scores_std, test_scores_mean + test_scores_std, alpha=0.1, color=\"g\")\n",
    "    \n",
    "    # plot the average training and test score lines at each training set size\n",
    "    plt.plot(train_sizes, train_scores_mean, 'o-', color=\"r\", label=\"Training cross-validation score\")\n",
    "    plt.plot(train_sizes, test_scores_mean, 'o-', color=\"g\", label=\"Test Cross-validation score\")\n",
    "    plt.legend()\n",
    "    # sizes the window for readability and displays the plot\n",
    "    # shows error from 0 to 1.1\n",
    "    plt.ylim(-.1,1.1)\n",
    "    plt.show()\n",
    "\n",
    "plot_curve()"
   ]
  },
  {
   "cell_type": "markdown",
   "metadata": {},
   "source": [
    "# KNEIGHBORS CLASSIFIER"
   ]
  },
  {
   "cell_type": "code",
   "execution_count": 32,
   "metadata": {},
   "outputs": [],
   "source": [
    "#Fitting the model\n",
    "np.random.seed(42)\n",
    "kc = KNeighborsClassifier()\n",
    "kc.fit(X_train,y_train)"
   ]
  },
  {
   "cell_type": "code",
   "execution_count": 33,
   "metadata": {},
   "outputs": [],
   "source": [
    "#Predicting the model\n",
    "y_preds1 = kc.predict(X_test)\n",
    "y_preds1"
   ]
  },
  {
   "cell_type": "code",
   "execution_count": 34,
   "metadata": {},
   "outputs": [],
   "source": [
    "#Predicting the accuracy\n",
    "accur_table1 = accuracy_score(y_test,y_preds1)\n",
    "accur_table1"
   ]
  },
  {
   "cell_type": "code",
   "execution_count": 35,
   "metadata": {},
   "outputs": [],
   "source": [
    "#classification report\n",
    "clr1 = classification_report(y_test,y_preds1)\n",
    "print(clr1)"
   ]
  },
  {
   "cell_type": "code",
   "execution_count": 36,
   "metadata": {},
   "outputs": [],
   "source": [
    "#confusion matrix\n",
    "cm1 = confusion_matrix(y_test,y_preds1)\n",
    "cm1"
   ]
  },
  {
   "cell_type": "markdown",
   "metadata": {},
   "source": [
    "# MULTICLASS ROC CURVE FOR KNEIGHBORS CLASSIFIER"
   ]
  },
  {
   "cell_type": "code",
   "execution_count": 37,
   "metadata": {},
   "outputs": [],
   "source": [
    "import numpy as np\n",
    "import matplotlib.pyplot as plt\n",
    "from sklearn.metrics import roc_curve, auc\n",
    "from sklearn.preprocessing import label_binarize\n",
    "from sklearn.multiclass import OneVsRestClassifier\n",
    "\n",
    "# Import some data to play with\n",
    "X = iot_sensors2.drop(\"normality\",axis=1)\n",
    "y = iot_sensors2[\"normality\"]\n",
    "\n",
    "# Binarize the output\n",
    "y = label_binarize(y, classes=[0,1,2,3,4,5,6,7])\n",
    "n_classes = y.shape[1]\n",
    "\n",
    "# Add noisy features to make the problem harder\n",
    "random_state = np.random.RandomState(42)\n",
    "n_samples, n_features = X.shape\n",
    "X = np.c_[X, random_state.randn(n_samples, 200 * n_features)]\n",
    "\n",
    "# shuffle and split training and test sets\n",
    "X_train, X_test, y_train, y_test = train_test_split(X, y, test_size=0.2,\n",
    "                                                    random_state=42)\n",
    "\n",
    "# Learn to predict each class against the other\n",
    "kc2=KNeighborsClassifier()\n",
    "classifier = OneVsRestClassifier(kc2)\n",
    "y_score = classifier.fit(X_train, y_train).predict(X_test)\n",
    "\n",
    "# Compute ROC curve and ROC area for each class\n",
    "fpr = dict()\n",
    "tpr = dict()\n",
    "roc_auc = dict()\n",
    "for i in range(n_classes):\n",
    "    fpr[i], tpr[i], _ = roc_curve(y_test[:, i], y_score[:, i])\n",
    "    roc_auc[i] = auc(fpr[i], tpr[i])\n",
    "\n",
    "# Compute micro-average ROC curve and ROC area\n",
    "fpr[\"micro\"], tpr[\"micro\"], _ = roc_curve(y_test.ravel(), y_score.ravel())\n",
    "roc_auc[\"micro\"] = auc(fpr[\"micro\"], tpr[\"micro\"])\n",
    "\n",
    "# Plot of a ROC curve for a specific class\n",
    "plt.figure()\n",
    "plt.plot(fpr[2], tpr[2], label='ROC curve (area = %0.2f)' % roc_auc[2])\n",
    "plt.plot([0, 1], [0, 1], 'k--')\n",
    "plt.xlim([0.0, 1.0])\n",
    "plt.ylim([0.0, 1.05])\n",
    "plt.xlabel('False Positive Rate')\n",
    "plt.ylabel('True Positive Rate')\n",
    "plt.title('Receiver operating characteristic example')\n",
    "plt.legend(loc=\"lower right\")\n",
    "plt.show()\n",
    "\n",
    "# Plot ROC curve\n",
    "plt.figure()\n",
    "plt.plot(fpr[\"micro\"], tpr[\"micro\"],\n",
    "         label='micro-average ROC curve (area = {0:0.2f})'\n",
    "               ''.format(roc_auc[\"micro\"]))\n",
    "for i in range(n_classes):\n",
    "    plt.plot(fpr[i], tpr[i], label='ROC curve of class {0} (area = {1:0.2f})'\n",
    "                                   ''.format(i, roc_auc[i]))\n",
    "\n",
    "plt.plot([0, 1], [0, 1], 'k--')\n",
    "plt.xlim([0.0, 1.0])\n",
    "plt.ylim([0.0, 1.05])\n",
    "plt.xlabel('False Positive Rate')\n",
    "plt.ylabel('True Positive Rate')\n",
    "plt.title('Some extension of Receiver operating characteristic to multi-class')\n",
    "plt.legend(loc=\"lower right\")\n",
    "plt.show()"
   ]
  },
  {
   "cell_type": "markdown",
   "metadata": {},
   "source": [
    "### LEARNING CURVE OF KNEIGHBORS CLASSIFICATION  MODEL "
   ]
  },
  {
   "cell_type": "code",
   "execution_count": 38,
   "metadata": {},
   "outputs": [],
   "source": [
    "from sklearn.model_selection import learning_curve\n",
    "def plot_curve():\n",
    "    \n",
    "    np.random.seed(0)\n",
    "    X = iot_sensors2.drop(\"normality\",axis=1)\n",
    "    y = iot_sensors2[\"normality\"]\n",
    "    # instantiate\n",
    "\n",
    "    kc3 = KNeighborsClassifier()\n",
    "    \n",
    "    train_sizes = [57270,114540,171810,229080,286350]\n",
    "    train_sizes, train_scores, test_scores = learning_curve(kc3, X, y, cv=5, train_sizes=train_sizes,scoring = \"accuracy\", verbose=0)\n",
    "\n",
    "    train_scores_mean = train_scores.mean(axis=1)\n",
    "    train_scores_std = train_scores.std(axis=1)\n",
    "    test_scores_mean = test_scores.mean(axis=1)\n",
    "    test_scores_std = train_scores.std(axis=1)\n",
    "    \n",
    "    plt.figure()\n",
    "    plt.title(\"KNeighborsClassifier\")\n",
    "    plt.legend(loc=\"best\")\n",
    "    plt.xlabel(\"Samples\")\n",
    "    plt.ylabel(\"Accuracy\")\n",
    "    plt.gca().invert_yaxis()\n",
    "   \n",
    "    \n",
    "    # box-like grid\n",
    "    plt.grid()\n",
    "    \n",
    "    #plot the std deviation as a transparent range at each training set size\n",
    "    #plt.fill_between(train_sizes, train_scores_mean - train_scores_std, train_scores_mean + train_scores_std, alpha=0.1, color=\"r\")\n",
    "    #plt.fill_between(train_sizes, test_scores_mean - test_scores_std, test_scores_mean + test_scores_std, alpha=0.1, color=\"g\")\n",
    "    \n",
    "    # plot the average training and test score lines at each training set size\n",
    "    plt.plot(train_sizes, train_scores_mean, 'o-', color=\"r\", label=\"Training cross-validation score\")\n",
    "    plt.plot(train_sizes, test_scores_mean, 'o-', color=\"g\", label=\"Test Cross-validation score\")\n",
    "    plt.legend()\n",
    "    # sizes the window for readability and displays the plot\n",
    "    # shows error from 0 to 1.1\n",
    "    plt.xlim(55000,300000)\n",
    "    plt.ylim(-0.1,1.1)\n",
    "    plt.show()\n",
    "\n",
    "plot_curve()"
   ]
  },
  {
   "cell_type": "markdown",
   "metadata": {},
   "source": [
    "### OBSERVATION\n",
    "WE OBSERVE THAT WITHIN THE VISUALIZATION FOR KNEIGHBORS ABOVE, OUR MODEL IS TRAINING THE MODEL VERY WELL AND GIVING HIGH \n",
    "ACCURACY BUT WHEN IT COMES TO TESTING VALIDATION,THE ACCURACY DECREASES WHICH MAKES IT A CLASSIC CASE OF OVERFITTING.\n",
    "THUS TO REDUCE THE OVERFITTING HERE WE WILL REDUCE THE NUMBER OF FEATURE VARIABLE WHICH DOES NOT CONTRIBUTE IN THE \n",
    "ATTACK PREDICTION. WITH THE HELP OF MULTICOLLINEARITY HEAT MAP WE OBSERVE THAT TIMESTAMP HAS A LOW VALUE OF \n",
    "COLLINEARITY IN RELATION TO THE OUTPUT VARIABLE. THUS WE WILL ELMINATE TIMESTAMP AND VISUALIZE IT AGAIN."
   ]
  },
  {
   "cell_type": "code",
   "execution_count": null,
   "metadata": {},
   "outputs": [],
   "source": [
    "from sklearn.model_selection import learning_curve\n",
    "def plot_curve():\n",
    "    \n",
    "    np.random.seed(0)\n",
    "    X2 = iot_sensors2[[\"sourceID\",\"sourceAddress\",\"sourceType\",\"sourceLocation\",\"destinationServiceAddress\",\"destinationServiceType\",\"destinationLocation\",\"accessedNodeType\",\"accessedNodeAddress\",\"operation\",\"value\"]]\n",
    "    y = iot_sensors2[\"normality\"]\n",
    "    \n",
    "    # instantiate\n",
    "    kc3 = KNeighborsClassifier()\n",
    "\n",
    "    train_sizes = [57270,114540,171810,229080,286350]\n",
    "    train_sizes, train_scores, test_scores = learning_curve(kc3, X2, y, cv=5, train_sizes=train_sizes,scoring = \"accuracy\", verbose=0)\n",
    "\n",
    "    train_scores_mean = train_scores.mean(axis=1)\n",
    "    train_scores_std = train_scores.std(axis=1)\n",
    "    test_scores_mean = test_scores.mean(axis=1)\n",
    "    test_scores_std = train_scores.std(axis=1)\n",
    "    \n",
    "    plt.figure()\n",
    "    plt.title(\"KNeighborsClassifier\")\n",
    "    plt.legend(loc=\"best\")\n",
    "    plt.xlabel(\"Samples\")\n",
    "    plt.ylabel(\"Accuracy\")\n",
    "    plt.gca().invert_yaxis()\n",
    "   \n",
    "    \n",
    "    # box-like grid\n",
    "    plt.grid()\n",
    "\n",
    "    # plot the average training and test score lines at each training set size\n",
    "    plt.plot(train_sizes, train_scores_mean, 'o-', color=\"r\", label=\"Training cross-validation score\")\n",
    "    plt.plot(train_sizes, test_scores_mean, 'o-', color=\"g\", label=\"Test Cross-validation score\")\n",
    "    plt.legend()\n",
    "    # sizes the window for readability and displays the plot\n",
    "    # shows error from 0 to 1.1\n",
    "    plt.xlim(55000,300000)\n",
    "    plt.ylim(-0.1,1.1)\n",
    "    plt.show()\n",
    "\n",
    "plot_curve()"
   ]
  },
  {
   "cell_type": "markdown",
   "metadata": {},
   "source": [
    "## SOLVED:\n",
    "WE OBSERVE ABOVE THAT BY ELIMINATING TIMESTAMP FROM OUR MODEL THE ACCURACY OF TEST CROSS VALIDATION SIGNIFICANTLY INCREASES\n",
    "AND THUS OVERFITTING IS SOLVED."
   ]
  },
  {
   "cell_type": "markdown",
   "metadata": {},
   "source": [
    "# RANDOM FOREST CLASSIFIER"
   ]
  },
  {
   "cell_type": "code",
   "execution_count": 41,
   "metadata": {},
   "outputs": [],
   "source": [
    "#Fitting Random Forest Classifier\n",
    "np.random.seed(42)\n",
    "rfc = RandomForestClassifier()\n",
    "rfc.fit(X_train,y_train)"
   ]
  },
  {
   "cell_type": "code",
   "execution_count": 42,
   "metadata": {},
   "outputs": [],
   "source": [
    "#predicting through Random Forest\n",
    "y_preds2 = rfc.predict(X_test)\n",
    "y_preds2"
   ]
  },
  {
   "cell_type": "code",
   "execution_count": 43,
   "metadata": {},
   "outputs": [],
   "source": [
    "#Accuracy Score\n",
    "accur_table2 = accuracy_score(y_test,y_preds2)\n",
    "accur_table2"
   ]
  },
  {
   "cell_type": "code",
   "execution_count": 44,
   "metadata": {},
   "outputs": [],
   "source": [
    "#Classification Report\n",
    "clr2 = classification_report(y_test,y_preds2)\n",
    "print(clr2)"
   ]
  },
  {
   "cell_type": "code",
   "execution_count": 45,
   "metadata": {},
   "outputs": [],
   "source": [
    "#Confusion Matrix\n",
    "cm2 = confusion_matrix(y_test,y_preds2)\n",
    "cm2"
   ]
  },
  {
   "cell_type": "markdown",
   "metadata": {},
   "source": [
    "## ROC CURVE FOR RANDOM FOREST CLASSIFIER"
   ]
  },
  {
   "cell_type": "code",
   "execution_count": 46,
   "metadata": {},
   "outputs": [],
   "source": [
    "import numpy as np\n",
    "import matplotlib.pyplot as plt\n",
    "from sklearn.metrics import roc_curve, auc\n",
    "from sklearn.preprocessing import label_binarize\n",
    "from sklearn.multiclass import OneVsRestClassifier\n",
    "\n",
    "# Import some data to play with\n",
    "X = iot_sensors2.drop(\"normality\",axis=1)\n",
    "y = iot_sensors2[\"normality\"]\n",
    "\n",
    "# Binarize the output\n",
    "y = label_binarize(y, classes=[0,1,2,3,4,5,6,7])\n",
    "n_classes = y.shape[1]\n",
    "\n",
    "# Add noisy features to make the problem harder\n",
    "random_state = np.random.RandomState(42)\n",
    "n_samples, n_features = X.shape\n",
    "X = np.c_[X, random_state.randn(n_samples, 200 * n_features)]\n",
    "\n",
    "# shuffle and split training and test sets\n",
    "X_train, X_test, y_train, y_test = train_test_split(X, y, test_size=0.2,\n",
    "                                                    random_state=42)\n",
    "\n",
    "# Learn to predict each class against the other\n",
    "rfc2 = RandomForestClassifier()\n",
    "classifier = OneVsRestClassifier(rfc2)\n",
    "y_score = classifier.fit(X_train, y_train).predict(X_test)\n",
    "\n",
    "# Compute ROC curve and ROC area for each class\n",
    "fpr = dict()\n",
    "tpr = dict()\n",
    "roc_auc = dict()\n",
    "for i in range(n_classes):\n",
    "    fpr[i], tpr[i], _ = roc_curve(y_test[:, i], y_score[:, i])\n",
    "    roc_auc[i] = auc(fpr[i], tpr[i])\n",
    "\n",
    "# Compute micro-average ROC curve and ROC area\n",
    "fpr[\"micro\"], tpr[\"micro\"], _ = roc_curve(y_test.ravel(), y_score.ravel())\n",
    "roc_auc[\"micro\"] = auc(fpr[\"micro\"], tpr[\"micro\"])\n",
    "\n",
    "# Plot of a ROC curve for a specific class\n",
    "plt.figure()\n",
    "plt.plot(fpr[2], tpr[2], label='ROC curve (area = %0.2f)' % roc_auc[2])\n",
    "plt.plot([0, 1], [0, 1], 'k--')\n",
    "plt.xlim([0.0, 1.0])\n",
    "plt.ylim([0.0, 1.05])\n",
    "plt.xlabel('False Positive Rate')\n",
    "plt.ylabel('True Positive Rate')\n",
    "plt.title('Receiver operating characteristic example')\n",
    "plt.legend(loc=\"lower right\")\n",
    "plt.show()\n",
    "\n",
    "# Plot ROC curve\n",
    "plt.figure()\n",
    "plt.plot(fpr[\"micro\"], tpr[\"micro\"],\n",
    "         label='micro-average ROC curve (area = {0:0.2f})'\n",
    "               ''.format(roc_auc[\"micro\"]))\n",
    "for i in range(n_classes):\n",
    "    plt.plot(fpr[i], tpr[i], label='ROC curve of class {0} (area = {1:0.2f})'\n",
    "                                   ''.format(i, roc_auc[i]))\n",
    "\n",
    "plt.plot([0, 1], [0, 1], 'k--')\n",
    "plt.xlim([0.0, 1.0])\n",
    "plt.ylim([0.0, 1.05])\n",
    "plt.xlabel('False Positive Rate')\n",
    "plt.ylabel('True Positive Rate')\n",
    "plt.title('Some extension of Receiver operating characteristic to multi-class')\n",
    "plt.legend(loc=\"lower right\")\n",
    "plt.show()"
   ]
  },
  {
   "cell_type": "markdown",
   "metadata": {},
   "source": [
    "## LEARNING CURVE OF RANDOM FOREST CLASSIFIER"
   ]
  },
  {
   "cell_type": "code",
   "execution_count": 47,
   "metadata": {},
   "outputs": [],
   "source": [
    "\n",
    "from sklearn.model_selection import learning_curve\n",
    "def plot_curve():\n",
    "    \n",
    "    np.random.seed(0)\n",
    "    X = iot_sensors2.drop(\"normality\",axis=1)\n",
    "    y = iot_sensors2[\"normality\"]\n",
    "    # instantiate\n",
    "    rfc3 = RandomForestClassifier(random_state=0,n_estimators=100)\n",
    "    \n",
    "    train_sizes = [57270,114540,171810,229080,286350]\n",
    "    train_sizes, train_scores, test_scores = learning_curve(rfc3, X, y, cv=5, train_sizes=train_sizes,scoring = \"accuracy\", verbose=0)\n",
    "\n",
    "    train_scores_mean = train_scores.mean(axis=1)\n",
    "    train_scores_std = train_scores.std(axis=1)\n",
    "    test_scores_mean = test_scores.mean(axis=1)\n",
    "    test_scores_std = train_scores.std(axis=1)\n",
    "    \n",
    "    plt.figure()\n",
    "    plt.title(\"RandomForestClassifier\")\n",
    "    plt.legend(loc=\"best\")\n",
    "    plt.xlabel(\"Samples\")\n",
    "    plt.ylabel(\"Accuracy\")\n",
    "    plt.gca().invert_yaxis()\n",
    "   \n",
    "    \n",
    "    # box-like grid\n",
    "    plt.grid()\n",
    "    \n",
    "    # plot the average training and test score lines at each training set size\n",
    "    plt.plot(train_sizes, train_scores_mean, 'o-', color=\"r\", label=\"Training cross-validation score\")\n",
    "    plt.plot(train_sizes, test_scores_mean, 'o-', color=\"g\", label=\"Test Cross-validation score\")\n",
    "    plt.legend()\n",
    "    # sizes the window for readability and displays the plot\n",
    "    # shows error from 0 to 1.1\n",
    "    plt.xlim(55000,300000)\n",
    "    plt.ylim(-0.1,1.1)\n",
    "    plt.show()\n",
    "\n",
    "plot_curve()"
   ]
  },
  {
   "cell_type": "markdown",
   "metadata": {},
   "source": [
    "### OBSERVATION 2 :\n",
    "WE AGAIN OBSERVE OVERFITTING OF THE MODEL BUT THIS TIME WE WILL TRY TWO DIFFERENT WAYS TO COMPARE ACCURACY \n",
    "1. WE WILL REMOVE BOTH ACCESSEDNODETYPE AND TIMESTAMP\n",
    "2. WE WILL REMOVE ONLY TIMESTAMP\n",
    "\n",
    "THE REASON FOR TRYING THESE TWO DIFFERENT WAYS IS BECAUSE AS PER THE HEATMAP OF MULTICOLLINEARITY THESE TWO\n",
    "FEATURE VARIABLE HAS A VALUE OF -0.005 AND -0.008 RESPECTIVELY THUS SHOWING LEAST DEPENDENCY."
   ]
  },
  {
   "cell_type": "markdown",
   "metadata": {},
   "source": [
    "## WAY 1- ELIMINATING BOTH ACCESSEDNODETYPE AND TIMESTAMP"
   ]
  },
  {
   "cell_type": "code",
   "execution_count": null,
   "metadata": {},
   "outputs": [],
   "source": [
    "data = iot_sensors2[[\"sourceID\",\"sourceAddress\",\"sourceType\",\"sourceLocation\",\"destinationServiceAddress\",\"destinationServiceType\",\"destinationLocation\",\"accessedNodeAddress\",\"operation\",\"value\"]]\n",
    "data.head()"
   ]
  },
  {
   "cell_type": "code",
   "execution_count": null,
   "metadata": {},
   "outputs": [],
   "source": [
    "x1 = data"
   ]
  },
  {
   "cell_type": "code",
   "execution_count": null,
   "metadata": {},
   "outputs": [],
   "source": [
    "#Fitting Random Forest Classifier\n",
    "X_train,X_test,y_train,y_test = train_test_split(X1,y,test_size=0.2)\n",
    "np.random.seed(42)\n",
    "rfc5 = RandomForestClassifier()\n",
    "rfc5.fit(X_train,y_train)"
   ]
  },
  {
   "cell_type": "code",
   "execution_count": null,
   "metadata": {},
   "outputs": [],
   "source": [
    "# predicting through Random Forest\n",
    "y_preds5 = rfc5.predict(X_test)\n",
    "y_preds5"
   ]
  },
  {
   "cell_type": "code",
   "execution_count": null,
   "metadata": {},
   "outputs": [],
   "source": [
    "#Accuracy Score\n",
    "accur_table5 = accuracy_score(y_test,y_preds5)\n",
    "accur_table5"
   ]
  },
  {
   "cell_type": "code",
   "execution_count": null,
   "metadata": {},
   "outputs": [],
   "source": [
    "#Classification Report\n",
    "clr5 = classification_report(y_test,y_preds5)\n",
    "print(clr5)"
   ]
  },
  {
   "cell_type": "markdown",
   "metadata": {},
   "source": [
    "### ROC CURVE FOR WAY 1"
   ]
  },
  {
   "cell_type": "code",
   "execution_count": null,
   "metadata": {},
   "outputs": [],
   "source": [
    "import numpy as np\n",
    "import matplotlib.pyplot as plt\n",
    "from sklearn.metrics import roc_curve, auc\n",
    "from sklearn.preprocessing import label_binarize\n",
    "from sklearn.multiclass import OneVsRestClassifier\n",
    "\n",
    "# Import some data to play with\n",
    "X2 = iot_sensors2[[\"sourceID\",\"sourceAddress\",\"sourceType\",\"sourceLocation\",\"destinationServiceAddress\",\"destinationServiceType\",\"destinationLocation\",\"accessedNodeAddress\",\"operation\",\"value\"]]\n",
    "y = iot_sensors2[\"normality\"]\n",
    "\n",
    "# Binarize the output\n",
    "y = label_binarize(y, classes=[0,1,2,3,4,5,6,7])\n",
    "n_classes = y.shape[1]\n",
    "\n",
    "# Add noisy features to make the problem harder\n",
    "random_state = np.random.RandomState(0)\n",
    "n_samples, n_features = X2.shape\n",
    "X2= np.c_[X2, random_state.randn(n_samples, 200 * n_features)]\n",
    "\n",
    "# shuffle and split training and test sets\n",
    "X_train, X_test, y_train, y_test = train_test_split(X2, y, test_size=0.2,\n",
    "                                                    random_state=0)\n",
    "\n",
    "# Learn to predict each class against the other\n",
    "rfc6 = RandomForestClassifier()\n",
    "classifier = OneVsRestClassifier(rfc6)\n",
    "y_score = classifier.fit(X_train, y_train).predict(X_test)\n",
    "\n",
    "# Compute ROC curve and ROC area for each class\n",
    "fpr = dict()\n",
    "tpr = dict()\n",
    "roc_auc = dict()\n",
    "for i in range(n_classes):\n",
    "    fpr[i], tpr[i], _ = roc_curve(y_test[:, i], y_score[:, i])\n",
    "    roc_auc[i] = auc(fpr[i], tpr[i])\n",
    "\n",
    "# Compute micro-average ROC curve and ROC area\n",
    "fpr[\"micro\"], tpr[\"micro\"], _ = roc_curve(y_test.ravel(), y_score.ravel())\n",
    "roc_auc[\"micro\"] = auc(fpr[\"micro\"], tpr[\"micro\"])\n",
    "\n",
    "# Plot of a ROC curve for a specific class\n",
    "plt.figure()\n",
    "plt.plot(fpr[2], tpr[2], label='ROC curve (area = %0.2f)' % roc_auc[2])\n",
    "plt.plot([0, 1], [0, 1], 'k--')\n",
    "plt.xlim([0.0, 1.0])\n",
    "plt.ylim([0.0, 1.05])\n",
    "plt.xlabel('False Positive Rate')\n",
    "plt.ylabel('True Positive Rate')\n",
    "plt.title('Receiver operating characteristic example')\n",
    "plt.legend(loc=\"lower right\")\n",
    "plt.show()\n",
    "\n",
    "# Plot ROC curve\n",
    "plt.figure()\n",
    "plt.plot(fpr[\"micro\"], tpr[\"micro\"],\n",
    "         label='micro-average ROC curve (area = {0:0.2f})'\n",
    "               ''.format(roc_auc[\"micro\"]))\n",
    "for i in range(n_classes):\n",
    "    plt.plot(fpr[i], tpr[i], label='ROC curve of class {0} (area = {1:0.2f})'\n",
    "                                   ''.format(i, roc_auc[i]))\n",
    "\n",
    "plt.plot([0, 1], [0, 1], 'k--')\n",
    "plt.xlim([0.0, 1.0])\n",
    "plt.ylim([0.0, 1.05])\n",
    "plt.xlabel('False Positive Rate')\n",
    "plt.ylabel('True Positive Rate')\n",
    "plt.title('Some extension of Receiver operating characteristic to multi-class')\n",
    "plt.legend(loc=\"lower right\")\n",
    "plt.show()"
   ]
  },
  {
   "cell_type": "markdown",
   "metadata": {},
   "source": [
    "### LEARNING CURVE FOR WAY 1"
   ]
  },
  {
   "cell_type": "code",
   "execution_count": null,
   "metadata": {},
   "outputs": [],
   "source": [
    "from sklearn.model_selection import learning_curve\n",
    "def plot_curve():\n",
    "    \n",
    "    np.random.seed(0)\n",
    "    X2 = iot_sensors2[[\"sourceID\",\"sourceAddress\",\"sourceType\",\"sourceLocation\",\"destinationServiceAddress\",\"destinationServiceType\",\"destinationLocation\",\"accessedNodeAddress\",\"operation\",\"value\"]]\n",
    "    y = iot_sensors2[\"normality\"]\n",
    "    # instantiate\n",
    "\n",
    "    rfc5 = RandomForestClassifier(random_state=0)\n",
    "\n",
    "    train_sizes = [57270,114540,171810,229080,286350]\n",
    "    train_sizes, train_scores, test_scores = learning_curve(rfc5, X2, y, cv=5, train_sizes=train_sizes,scoring = \"accuracy\", verbose=0)\n",
    "\n",
    "    train_scores_mean = train_scores.mean(axis=1)\n",
    "    train_scores_std = train_scores.std(axis=1)\n",
    "    test_scores_mean = test_scores.mean(axis=1)\n",
    "    test_scores_std = train_scores.std(axis=1)\n",
    "    \n",
    "    plt.figure()\n",
    "    plt.title(\"RandomForestClassifier\")\n",
    "    plt.legend(loc=\"best\")\n",
    "    plt.xlabel(\"Samples\")\n",
    "    plt.ylabel(\"Accuracy\")\n",
    "    plt.gca().invert_yaxis()\n",
    "   \n",
    "    \n",
    "    # box-like grid\n",
    "    plt.grid()\n",
    "      \n",
    "    # plot the average training and test score lines at each training set size\n",
    "    plt.plot(train_sizes, train_scores_mean, 'o-', color=\"r\", label=\"Training cross-validation score\")\n",
    "    plt.plot(train_sizes, test_scores_mean, 'o-', color=\"g\", label=\"Test Cross-validation score\")\n",
    "    plt.legend()\n",
    "    # sizes the window for readability and displays the plot\n",
    "    # shows error from 0 to 1.1\n",
    "    plt.xlim(55000,300000)\n",
    "    plt.ylim(-0.1,1.1)\n",
    "    plt.show()\n",
    "\n",
    "plot_curve()"
   ]
  },
  {
   "cell_type": "markdown",
   "metadata": {},
   "source": [
    "## WAY 2- ELIMINATING ONLY TIMESTAMP"
   ]
  },
  {
   "cell_type": "markdown",
   "metadata": {},
   "source": [
    "## ROC CURVE FOR WAY 2"
   ]
  },
  {
   "cell_type": "code",
   "execution_count": null,
   "metadata": {},
   "outputs": [],
   "source": [
    "import numpy as np\n",
    "import matplotlib.pyplot as plt\n",
    "from sklearn.metrics import roc_curve, auc\n",
    "from sklearn.preprocessing import label_binarize\n",
    "from sklearn.multiclass import OneVsRestClassifier\n",
    "\n",
    "# Import some data to play with\n",
    "X3 = iot_sensors2[[\"sourceID\",\"sourceAddress\",\"sourceType\",\"sourceLocation\",\"destinationServiceAddress\",\"destinationServiceType\",\"destinationLocation\",\"accessedNodeType\",\"accessedNodeAddress\",\"operation\",\"value\"]]\n",
    "y = iot_sensors2[\"normality\"]\n",
    "\n",
    "# Binarize the output\n",
    "y = label_binarize(y, classes=[0,1,2,3,4,5,6,7])\n",
    "n_classes = y.shape[1]\n",
    "\n",
    "# Add noisy features to make the problem harder\n",
    "random_state = np.random.RandomState(0)\n",
    "n_samples, n_features = X3.shape\n",
    "X3= np.c_[X3, random_state.randn(n_samples, 200 * n_features)]\n",
    "\n",
    "# shuffle and split training and test sets\n",
    "X_train, X_test, y_train, y_test = train_test_split(X3, y, test_size=0.2,\n",
    "                                                    random_state=0)\n",
    "\n",
    "# Learn to predict each class against the other\n",
    "rfc6 = RandomForestClassifier()\n",
    "classifier = OneVsRestClassifier(rfc6)\n",
    "y_score = classifier.fit(X_train, y_train).predict(X_test)\n",
    "\n",
    "# Compute ROC curve and ROC area for each class\n",
    "fpr = dict()\n",
    "tpr = dict()\n",
    "roc_auc = dict()\n",
    "for i in range(n_classes):\n",
    "    fpr[i], tpr[i], _ = roc_curve(y_test[:, i], y_score[:, i])\n",
    "    roc_auc[i] = auc(fpr[i], tpr[i])\n",
    "\n",
    "# Compute micro-average ROC curve and ROC area\n",
    "fpr[\"micro\"], tpr[\"micro\"], _ = roc_curve(y_test.ravel(), y_score.ravel())\n",
    "roc_auc[\"micro\"] = auc(fpr[\"micro\"], tpr[\"micro\"])\n",
    "\n",
    "# Plot of a ROC curve for a specific class\n",
    "plt.figure()\n",
    "plt.plot(fpr[2], tpr[2], label='ROC curve (area = %0.2f)' % roc_auc[2])\n",
    "plt.plot([0, 1], [0, 1], 'k--')\n",
    "plt.xlim([0.0, 1.0])\n",
    "plt.ylim([0.0, 1.05])\n",
    "plt.xlabel('False Positive Rate')\n",
    "plt.ylabel('True Positive Rate')\n",
    "plt.title('Receiver operating characteristic example')\n",
    "plt.legend(loc=\"lower right\")\n",
    "plt.show()\n",
    "\n",
    "# Plot ROC curve\n",
    "plt.figure()\n",
    "plt.plot(fpr[\"micro\"], tpr[\"micro\"],\n",
    "         label='micro-average ROC curve (area = {0:0.2f})'\n",
    "               ''.format(roc_auc[\"micro\"]))\n",
    "for i in range(n_classes):\n",
    "    plt.plot(fpr[i], tpr[i], label='ROC curve of class {0} (area = {1:0.2f})'\n",
    "                                   ''.format(i, roc_auc[i]))\n",
    "\n",
    "plt.plot([0, 1], [0, 1], 'k--')\n",
    "plt.xlim([0.0, 1.0])\n",
    "plt.ylim([0.0, 1.05])\n",
    "plt.xlabel('False Positive Rate')\n",
    "plt.ylabel('True Positive Rate')\n",
    "plt.title('Some extension of Receiver operating characteristic to multi-class')\n",
    "plt.legend(loc=\"lower right\")\n",
    "plt.show()"
   ]
  },
  {
   "cell_type": "markdown",
   "metadata": {},
   "source": [
    "## LEARNING CURVE FOR WAY 2"
   ]
  },
  {
   "cell_type": "code",
   "execution_count": null,
   "metadata": {},
   "outputs": [],
   "source": [
    "from sklearn.model_selection import learning_curve\n",
    "def plot_curve():\n",
    "    \n",
    "    np.random.seed(0)\n",
    "    X2 = iot_sensors2[[\"sourceID\",\"sourceAddress\",\"sourceType\",\"sourceLocation\",\"destinationServiceAddress\",\"destinationServiceType\",\"destinationLocation\",\"accessedNodeType\",\"accessedNodeAddress\",\"operation\",\"value\"]]\n",
    "    y = iot_sensors2[\"normality\"]\n",
    "    # instantiate\n",
    "\n",
    "    rfc5 = RandomForestClassifier(random_state=0)\n",
    "\n",
    "    train_sizes = [57270,114540,171810,229080,286350]\n",
    "    train_sizes, train_scores, test_scores = learning_curve(rfc5, X2, y, cv=5, train_sizes=train_sizes,scoring = \"accuracy\", verbose=0)\n",
    "\n",
    "    train_scores_mean = train_scores.mean(axis=1)\n",
    "    train_scores_std = train_scores.std(axis=1)\n",
    "    test_scores_mean = test_scores.mean(axis=1)\n",
    "    test_scores_std = train_scores.std(axis=1)\n",
    "    \n",
    "    plt.figure()\n",
    "    plt.title(\"RandomForestClassifier\")\n",
    "    plt.legend(loc=\"best\")\n",
    "    plt.xlabel(\"Samples\")\n",
    "    plt.ylabel(\"Accuracy\")\n",
    "    plt.gca().invert_yaxis()\n",
    "   \n",
    "    \n",
    "    # box-like grid\n",
    "    plt.grid()\n",
    "    \n",
    "    # plot the average training and test score lines at each training set size\n",
    "    plt.plot(train_sizes, train_scores_mean, 'o-', color=\"r\", label=\"Training cross-validation score\")\n",
    "    plt.plot(train_sizes, test_scores_mean, 'o-', color=\"g\", label=\"Test Cross-validation score\")\n",
    "    plt.legend()\n",
    "    # sizes the window for readability and displays the plot\n",
    "    # shows error from 0 to 1.1\n",
    "    plt.xlim(55000,300000)\n",
    "    plt.ylim(-0.1,1.1)\n",
    "    plt.show()\n",
    "\n",
    "plot_curve()"
   ]
  },
  {
   "cell_type": "markdown",
   "metadata": {},
   "source": [
    "## OBSERVATION 3:\n",
    "WE OBSERVE ABOVE THAT FOR BOTH WAY 1 AND WAY 2 WE WERE ABLE TO FIX OVERFITTING OF THE MODEL , BUT  WAY 2 GIVES A BETTER PREDICTION AS COMPARED TO WAY 1 , THEREFORE , WE WE ONLY ELIMINATE TIMESTAMP FROM FEATURE VARIABLE."
   ]
  },
  {
   "cell_type": "markdown",
   "metadata": {},
   "source": [
    "# DECISION TREE CLASSIFIER"
   ]
  },
  {
   "cell_type": "code",
   "execution_count": 50,
   "metadata": {},
   "outputs": [],
   "source": [
    "#Fitting Decision Tree Classifier\n",
    "np.random.seed(42)\n",
    "dtc = DecisionTreeClassifier()\n",
    "dtc.fit(X_train,y_train)"
   ]
  },
  {
   "cell_type": "code",
   "execution_count": 51,
   "metadata": {},
   "outputs": [],
   "source": [
    "# predicting through Decision Tree Classifier\n",
    "y_preds3 = dtc.predict(X_test)\n",
    "y_preds3"
   ]
  },
  {
   "cell_type": "code",
   "execution_count": 52,
   "metadata": {},
   "outputs": [],
   "source": [
    "#Accuracy Score\n",
    "accur_table3 = accuracy_score(y_test,y_preds3)\n",
    "accur_table3"
   ]
  },
  {
   "cell_type": "code",
   "execution_count": 53,
   "metadata": {},
   "outputs": [],
   "source": [
    "#Classification Report\n",
    "clr3 = classification_report(y_test,y_preds3)\n",
    "print(clr3)"
   ]
  },
  {
   "cell_type": "code",
   "execution_count": 54,
   "metadata": {},
   "outputs": [],
   "source": [
    "#Confusion Matrix\n",
    "cm3 = confusion_matrix(y_test,y_preds3)\n",
    "cm3"
   ]
  },
  {
   "cell_type": "markdown",
   "metadata": {},
   "source": [
    "## ROC CURVE FOR DECISION TREE CLASSIFIER "
   ]
  },
  {
   "cell_type": "code",
   "execution_count": 55,
   "metadata": {},
   "outputs": [],
   "source": [
    "import numpy as np\n",
    "import matplotlib.pyplot as plt\n",
    "from sklearn.metrics import roc_curve, auc\n",
    "from sklearn.preprocessing import label_binarize\n",
    "from sklearn.multiclass import OneVsRestClassifier\n",
    "\n",
    "# Import some data to play with\n",
    "X = iot_sensors2.drop(\"normality\",axis=1)\n",
    "y = iot_sensors2[\"normality\"]\n",
    "\n",
    "# Binarize the output\n",
    "y = label_binarize(y, classes=[0,1,2,3,4,5,6,7])\n",
    "n_classes = y.shape[1]\n",
    "\n",
    "# Add noisy features to make the problem harder\n",
    "random_state = np.random.RandomState(42)\n",
    "n_samples, n_features = X.shape\n",
    "X = np.c_[X, random_state.randn(n_samples, 200 * n_features)]\n",
    "\n",
    "# shuffle and split training and test sets\n",
    "X_train, X_test, y_train, y_test = train_test_split(X, y, test_size=0.2,\n",
    "                                                    random_state=42)\n",
    "\n",
    "# Learn to predict each class against the other\n",
    "dtc2 = DecisionTreeClassifier()\n",
    "classifier = OneVsRestClassifier(dtc2)\n",
    "y_score = classifier.fit(X_train, y_train).predict(X_test)\n",
    "\n",
    "# Compute ROC curve and ROC area for each class\n",
    "fpr = dict()\n",
    "tpr = dict()\n",
    "roc_auc = dict()\n",
    "for i in range(n_classes):\n",
    "    fpr[i], tpr[i], _ = roc_curve(y_test[:, i], y_score[:, i])\n",
    "    roc_auc[i] = auc(fpr[i], tpr[i])\n",
    "\n",
    "# Compute micro-average ROC curve and ROC area\n",
    "fpr[\"micro\"], tpr[\"micro\"], _ = roc_curve(y_test.ravel(), y_score.ravel())\n",
    "roc_auc[\"micro\"] = auc(fpr[\"micro\"], tpr[\"micro\"])\n",
    "\n",
    "# Plot of a ROC curve for a specific class\n",
    "plt.figure()\n",
    "plt.plot(fpr[2], tpr[2], label='ROC curve (area = %0.2f)' % roc_auc[2])\n",
    "plt.plot([0, 1], [0, 1], 'k--')\n",
    "plt.xlim([0.0, 1.0])\n",
    "plt.ylim([0.0, 1.05])\n",
    "plt.xlabel('False Positive Rate')\n",
    "plt.ylabel('True Positive Rate')\n",
    "plt.title('Receiver operating characteristic example')\n",
    "plt.legend(loc=\"lower right\")\n",
    "plt.show()\n",
    "\n",
    "# Plot ROC curve\n",
    "plt.figure()\n",
    "plt.plot(fpr[\"micro\"], tpr[\"micro\"],\n",
    "         label='micro-average ROC curve (area = {0:0.2f})'\n",
    "               ''.format(roc_auc[\"micro\"]))\n",
    "for i in range(n_classes):\n",
    "    plt.plot(fpr[i], tpr[i], label='ROC curve of class {0} (area = {1:0.2f})'\n",
    "                                   ''.format(i, roc_auc[i]))\n",
    "\n",
    "plt.plot([0, 1], [0, 1], 'k--')\n",
    "plt.xlim([0.0, 1.0])\n",
    "plt.ylim([0.0, 1.05])\n",
    "plt.xlabel('False Positive Rate')\n",
    "plt.ylabel('True Positive Rate')\n",
    "plt.title('Some extension of Receiver operating characteristic to multi-class')\n",
    "plt.legend(loc=\"lower right\")\n",
    "plt.show()"
   ]
  },
  {
   "cell_type": "markdown",
   "metadata": {},
   "source": [
    "## LEARNING CURVE FOR DECISION TREE CLASSIFIER"
   ]
  },
  {
   "cell_type": "code",
   "execution_count": 1,
   "metadata": {},
   "outputs": [],
   "source": [
    "from sklearn.model_selection import learning_curve\n",
    "def plot_curve():\n",
    "    \n",
    "    np.random.seed(0)\n",
    "    X = iot_sensors2.drop(\"normality\",axis=1)\n",
    "    y = iot_sensors2[\"normality\"]\n",
    "    # instantiate\n",
    "\n",
    "    dtc3 = DecisionTreeClassifier(random_state=0)\n",
    "    \n",
    "    train_sizes = [57270,114540,171810,229080,286350]\n",
    "    train_sizes, train_scores, test_scores = learning_curve(dtc3, X, y, cv=5, train_sizes=train_sizes,scoring = \"accuracy\", verbose=0)\n",
    "\n",
    "    train_scores_mean = train_scores.mean(axis=1)\n",
    "    train_scores_std = train_scores.std(axis=1)\n",
    "    test_scores_mean = test_scores.mean(axis=1)\n",
    "    test_scores_std = train_scores.std(axis=1)\n",
    "    \n",
    "    plt.figure()\n",
    "    plt.title(\"DecisionTreeClassifier\")\n",
    "    plt.legend(loc=\"best\")\n",
    "    plt.xlabel(\"Samples\")\n",
    "    plt.ylabel(\"Accuracy\")\n",
    "    plt.gca().invert_yaxis()\n",
    "   \n",
    "    \n",
    "    # box-like grid\n",
    "    plt.grid()\n",
    "    \n",
    "    # plot the average training and test score lines at each training set size\n",
    "    plt.plot(train_sizes, train_scores_mean, 'o-', color=\"r\", label=\"Training cross-validation score\")\n",
    "    plt.plot(train_sizes, test_scores_mean, 'o-', color=\"g\", label=\"Test Cross-validation score\")\n",
    "    plt.legend()\n",
    "    # sizes the window for readability and displays the plot\n",
    "    # shows error from 0 to 1.1\n",
    "    plt.xlim(55000,300000)\n",
    "    plt.ylim(-0.1,1.1)\n",
    "    plt.show()\n",
    "\n",
    "plot_curve()"
   ]
  },
  {
   "cell_type": "markdown",
   "metadata": {},
   "source": [
    "### OBSERVATION 4: \n",
    "WE AGAIN OBSERVE OVERFITTING OF THE MODEL AND THUS ELIMINATE TIMESTAMP FEATURE VARIABLE AND SOLVE THE OVERFITTING."
   ]
  },
  {
   "cell_type": "code",
   "execution_count": 57,
   "metadata": {},
   "outputs": [],
   "source": [
    "from sklearn.model_selection import learning_curve\n",
    "def plot_curve():\n",
    "    \n",
    "    np.random.seed(0)\n",
    "    X2 = iot_sensors2[[\"sourceID\",\"sourceAddress\",\"sourceType\",\"sourceLocation\",\"destinationServiceAddress\",\"destinationServiceType\",\"destinationLocation\",\"accessedNodeType\",\"accessedNodeAddress\",\"operation\",\"value\"]]\n",
    "    y = iot_sensors2[\"normality\"]\n",
    "    # instantiate\n",
    "\n",
    "    dtc3 = DecisionTreeClassifier(random_state=0)\n",
    "    \n",
    "    train_sizes = [57270,114540,171810,229080,286350]\n",
    "    train_sizes, train_scores, test_scores = learning_curve(dtc3, X2, y, cv=5, train_sizes=train_sizes,scoring = \"accuracy\", verbose=0)\n",
    "\n",
    "    train_scores_mean = train_scores.mean(axis=1)\n",
    "    train_scores_std = train_scores.std(axis=1)\n",
    "    test_scores_mean = test_scores.mean(axis=1)\n",
    "    test_scores_std = train_scores.std(axis=1)\n",
    "    \n",
    "    plt.figure()\n",
    "    plt.title(\"DecisionTreeClassifier\")\n",
    "    plt.legend(loc=\"best\")\n",
    "    plt.xlabel(\"Samples\")\n",
    "    plt.ylabel(\"Accuracy\")\n",
    "    plt.gca().invert_yaxis()\n",
    "   \n",
    "    \n",
    "    # box-like grid\n",
    "    plt.grid()\n",
    "\n",
    "    # plot the average training and test score lines at each training set size\n",
    "    plt.plot(train_sizes, train_scores_mean, 'o-', color=\"r\", label=\"Training cross-validation score\")\n",
    "    plt.plot(train_sizes, test_scores_mean, 'o-', color=\"g\", label=\"Test Cross-validation score\")\n",
    "    plt.legend()\n",
    "    # sizes the window for readability and displays the plot\n",
    "    # shows error from 0 to 1.1\n",
    "    plt.xlim(55000,300000)\n",
    "    plt.ylim(-0.1,1.1)\n",
    "    plt.show()\n",
    "\n",
    "plot_curve()"
   ]
  },
  {
   "cell_type": "markdown",
   "metadata": {},
   "source": [
    "## FINAL CONCLUSION:\n",
    "WE CONCLUDE THAT OUT OF ALL THE FOUR CLASSIFICATION MODEL DECISION TREE CLASSIFIER AND \n",
    "RANDOM FOREST CLASSIFIER GIVES THE BEST ACCURACY . BUT SINCE THE DEGREE OF OVERFITTING AND THE PROCESSING TIME\n",
    "OF DATA IS LOWER IN RANDOM FOREST CLASSIFIER AS COMPARED TO DECISION TREE CLASSIFIER . THE MOST DESIRABLE MODEL IS\n",
    "RANDOM FOREST CLASSIFIER FOR THIS PROJECT."
   ]
  },
  {
   "cell_type": "code",
   "execution_count": null,
   "metadata": {},
   "outputs": [],
   "source": []
  }
 ],
 "metadata": {
  "kernelspec": {
   "display_name": "Python 3",
   "language": "python",
   "name": "python3"
  },
  "language_info": {
   "codemirror_mode": {
    "name": "ipython",
    "version": 3
   },
   "file_extension": ".py",
   "mimetype": "text/x-python",
   "name": "python",
   "nbconvert_exporter": "python",
   "pygments_lexer": "ipython3",
   "version": "3.8.3"
  }
 },
 "nbformat": 4,
 "nbformat_minor": 2
}
